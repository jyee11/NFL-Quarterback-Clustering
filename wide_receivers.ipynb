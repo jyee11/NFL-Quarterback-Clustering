{
 "cells": [
  {
   "cell_type": "code",
   "execution_count": 1,
   "metadata": {},
   "outputs": [],
   "source": [
    "import pandas as pd\n",
    "import numpy as np\n",
    "import matplotlib.pyplot as plt\n",
    "import matplotlib.gridspec as gridspec\n",
    "import seaborn as sns\n",
    "import bokeh"
   ]
  },
  {
   "cell_type": "code",
   "execution_count": 2,
   "metadata": {},
   "outputs": [],
   "source": [
    "from sklearn.decomposition import PCA\n",
    "from sklearn.preprocessing import StandardScaler\n",
    "from sklearn.model_selection import train_test_split\n",
    "from sklearn.pipeline import Pipeline\n",
    "from sklearn.cluster import KMeans\n",
    "from sklearn.model_selection import GridSearchCV"
   ]
  },
  {
   "cell_type": "code",
   "execution_count": 3,
   "metadata": {},
   "outputs": [],
   "source": [
    "import warnings\n",
    "warnings.filterwarnings('ignore')"
   ]
  },
  {
   "cell_type": "markdown",
   "metadata": {},
   "source": [
    "## Importing Data"
   ]
  },
  {
   "cell_type": "code",
   "execution_count": 4,
   "metadata": {},
   "outputs": [],
   "source": [
    "nfl_data = {}\n",
    "wr_filter = ['Year', 'Player', 'Tm', 'Age', 'Pos', 'Games G', 'Games GS', 'Receiving Tgt', 'Receiving Rec', \n",
    "             'Receiving Yds', 'Receiving Y/R', 'Receiving TD', 'Receiving Lng', 'Receiving R/G', 'Receiving Y/G', \n",
    "             'Receiving Ctch%', 'Fmb']"
   ]
  },
  {
   "cell_type": "code",
   "execution_count": 5,
   "metadata": {},
   "outputs": [],
   "source": [
    "pro_bowl = {2013 : ['']}"
   ]
  },
  {
   "cell_type": "code",
   "execution_count": 6,
   "metadata": {},
   "outputs": [],
   "source": [
    "def add_pro_bowl(data, year):\n",
    "    if data.Player in pro_bowl[year]:\n",
    "        return 1\n",
    "    else:\n",
    "        return 0"
   ]
  },
  {
   "cell_type": "code",
   "execution_count": 7,
   "metadata": {},
   "outputs": [],
   "source": [
    "for i in range(2013,2019):\n",
    "    rr_data = pd.read_csv('Data/nfl-{}-rr.csv'.format(i))\n",
    "    rr_data['Year'] = i\n",
    "    filtered_data = rr_data[wr_filter]\n",
    "    ready_data = filtered_data.set_index(['Year', 'Player'])\n",
    "    #Add Pro Bowl\n",
    "    nfl_data[i] = ready_data"
   ]
  },
  {
   "cell_type": "code",
   "execution_count": 8,
   "metadata": {
    "scrolled": false
   },
   "outputs": [
    {
     "data": {
      "text/html": [
       "<div>\n",
       "<style scoped>\n",
       "    .dataframe tbody tr th:only-of-type {\n",
       "        vertical-align: middle;\n",
       "    }\n",
       "\n",
       "    .dataframe tbody tr th {\n",
       "        vertical-align: top;\n",
       "    }\n",
       "\n",
       "    .dataframe thead th {\n",
       "        text-align: right;\n",
       "    }\n",
       "</style>\n",
       "<table border=\"1\" class=\"dataframe\">\n",
       "  <thead>\n",
       "    <tr style=\"text-align: right;\">\n",
       "      <th></th>\n",
       "      <th></th>\n",
       "      <th>Tm</th>\n",
       "      <th>Age</th>\n",
       "      <th>Pos</th>\n",
       "      <th>Games G</th>\n",
       "      <th>Games GS</th>\n",
       "      <th>Receiving Tgt</th>\n",
       "      <th>Receiving Rec</th>\n",
       "      <th>Receiving Yds</th>\n",
       "      <th>Receiving Y/R</th>\n",
       "      <th>Receiving TD</th>\n",
       "      <th>Receiving Lng</th>\n",
       "      <th>Receiving R/G</th>\n",
       "      <th>Receiving Y/G</th>\n",
       "      <th>Receiving Ctch%</th>\n",
       "      <th>Fmb</th>\n",
       "    </tr>\n",
       "    <tr>\n",
       "      <th>Year</th>\n",
       "      <th>Player</th>\n",
       "      <th></th>\n",
       "      <th></th>\n",
       "      <th></th>\n",
       "      <th></th>\n",
       "      <th></th>\n",
       "      <th></th>\n",
       "      <th></th>\n",
       "      <th></th>\n",
       "      <th></th>\n",
       "      <th></th>\n",
       "      <th></th>\n",
       "      <th></th>\n",
       "      <th></th>\n",
       "      <th></th>\n",
       "      <th></th>\n",
       "    </tr>\n",
       "  </thead>\n",
       "  <tbody>\n",
       "    <tr>\n",
       "      <th rowspan=\"5\" valign=\"top\">2018</th>\n",
       "      <th>Saquon Barkley</th>\n",
       "      <td>NYG</td>\n",
       "      <td>21</td>\n",
       "      <td>RB</td>\n",
       "      <td>16</td>\n",
       "      <td>16</td>\n",
       "      <td>121</td>\n",
       "      <td>91</td>\n",
       "      <td>721</td>\n",
       "      <td>7.9</td>\n",
       "      <td>4</td>\n",
       "      <td>57</td>\n",
       "      <td>5.7</td>\n",
       "      <td>45.1</td>\n",
       "      <td>75.20%</td>\n",
       "      <td>0</td>\n",
       "    </tr>\n",
       "    <tr>\n",
       "      <th>Ezekiel Elliott</th>\n",
       "      <td>DAL</td>\n",
       "      <td>23</td>\n",
       "      <td>RB</td>\n",
       "      <td>15</td>\n",
       "      <td>15</td>\n",
       "      <td>95</td>\n",
       "      <td>77</td>\n",
       "      <td>567</td>\n",
       "      <td>7.4</td>\n",
       "      <td>3</td>\n",
       "      <td>38</td>\n",
       "      <td>5.1</td>\n",
       "      <td>37.8</td>\n",
       "      <td>81.10%</td>\n",
       "      <td>6</td>\n",
       "    </tr>\n",
       "    <tr>\n",
       "      <th>Christian McCaffrey</th>\n",
       "      <td>CAR</td>\n",
       "      <td>22</td>\n",
       "      <td>RB</td>\n",
       "      <td>16</td>\n",
       "      <td>16</td>\n",
       "      <td>124</td>\n",
       "      <td>107</td>\n",
       "      <td>867</td>\n",
       "      <td>8.1</td>\n",
       "      <td>6</td>\n",
       "      <td>38</td>\n",
       "      <td>6.7</td>\n",
       "      <td>54.2</td>\n",
       "      <td>86.30%</td>\n",
       "      <td>4</td>\n",
       "    </tr>\n",
       "    <tr>\n",
       "      <th>Todd Gurley</th>\n",
       "      <td>LAR</td>\n",
       "      <td>24</td>\n",
       "      <td>RB</td>\n",
       "      <td>14</td>\n",
       "      <td>14</td>\n",
       "      <td>81</td>\n",
       "      <td>59</td>\n",
       "      <td>580</td>\n",
       "      <td>9.8</td>\n",
       "      <td>4</td>\n",
       "      <td>56</td>\n",
       "      <td>4.2</td>\n",
       "      <td>41.4</td>\n",
       "      <td>72.80%</td>\n",
       "      <td>1</td>\n",
       "    </tr>\n",
       "    <tr>\n",
       "      <th>Julio Jones</th>\n",
       "      <td>ATL</td>\n",
       "      <td>29</td>\n",
       "      <td>WR</td>\n",
       "      <td>16</td>\n",
       "      <td>16</td>\n",
       "      <td>170</td>\n",
       "      <td>113</td>\n",
       "      <td>1677</td>\n",
       "      <td>14.8</td>\n",
       "      <td>8</td>\n",
       "      <td>58</td>\n",
       "      <td>7.1</td>\n",
       "      <td>104.8</td>\n",
       "      <td>66.50%</td>\n",
       "      <td>2</td>\n",
       "    </tr>\n",
       "  </tbody>\n",
       "</table>\n",
       "</div>"
      ],
      "text/plain": [
       "                           Tm  Age Pos  Games G  Games GS  Receiving Tgt  \\\n",
       "Year Player                                                                \n",
       "2018 Saquon Barkley       NYG   21  RB       16        16            121   \n",
       "     Ezekiel Elliott      DAL   23  RB       15        15             95   \n",
       "     Christian McCaffrey  CAR   22  RB       16        16            124   \n",
       "     Todd Gurley          LAR   24  RB       14        14             81   \n",
       "     Julio Jones          ATL   29  WR       16        16            170   \n",
       "\n",
       "                          Receiving Rec  Receiving Yds  Receiving Y/R  \\\n",
       "Year Player                                                             \n",
       "2018 Saquon Barkley                  91            721            7.9   \n",
       "     Ezekiel Elliott                 77            567            7.4   \n",
       "     Christian McCaffrey            107            867            8.1   \n",
       "     Todd Gurley                     59            580            9.8   \n",
       "     Julio Jones                    113           1677           14.8   \n",
       "\n",
       "                          Receiving TD  Receiving Lng  Receiving R/G  \\\n",
       "Year Player                                                            \n",
       "2018 Saquon Barkley                  4             57            5.7   \n",
       "     Ezekiel Elliott                 3             38            5.1   \n",
       "     Christian McCaffrey             6             38            6.7   \n",
       "     Todd Gurley                     4             56            4.2   \n",
       "     Julio Jones                     8             58            7.1   \n",
       "\n",
       "                          Receiving Y/G Receiving Ctch%  Fmb  \n",
       "Year Player                                                   \n",
       "2018 Saquon Barkley                45.1          75.20%    0  \n",
       "     Ezekiel Elliott               37.8          81.10%    6  \n",
       "     Christian McCaffrey           54.2          86.30%    4  \n",
       "     Todd Gurley                   41.4          72.80%    1  \n",
       "     Julio Jones                  104.8          66.50%    2  "
      ]
     },
     "execution_count": 8,
     "metadata": {},
     "output_type": "execute_result"
    }
   ],
   "source": [
    "nfl_data[2018].head()"
   ]
  },
  {
   "cell_type": "code",
   "execution_count": 9,
   "metadata": {
    "scrolled": true
   },
   "outputs": [
    {
     "name": "stdout",
     "output_type": "stream",
     "text": [
      "<class 'pandas.core.frame.DataFrame'>\n",
      "MultiIndex: 557 entries, (2018, Saquon Barkley) to (2018, Jonathan Williams)\n",
      "Data columns (total 15 columns):\n",
      "Tm                 557 non-null object\n",
      "Age                557 non-null int64\n",
      "Pos                418 non-null object\n",
      "Games G            557 non-null int64\n",
      "Games GS           557 non-null int64\n",
      "Receiving Tgt      557 non-null int64\n",
      "Receiving Rec      557 non-null int64\n",
      "Receiving Yds      557 non-null int64\n",
      "Receiving Y/R      490 non-null float64\n",
      "Receiving TD       557 non-null int64\n",
      "Receiving Lng      557 non-null int64\n",
      "Receiving R/G      557 non-null float64\n",
      "Receiving Y/G      557 non-null float64\n",
      "Receiving Ctch%    557 non-null object\n",
      "Fmb                557 non-null int64\n",
      "dtypes: float64(3), int64(9), object(3)\n",
      "memory usage: 71.3+ KB\n"
     ]
    }
   ],
   "source": [
    "nfl_data[2018].info()"
   ]
  },
  {
   "cell_type": "code",
   "execution_count": 10,
   "metadata": {},
   "outputs": [],
   "source": [
    "nfl = nfl_data[2013]\n",
    "for i in range(2014,2019):\n",
    "    nfl = pd.concat([nfl, nfl_data[i]])"
   ]
  },
  {
   "cell_type": "markdown",
   "metadata": {},
   "source": [
    "## Filtering to WRs"
   ]
  },
  {
   "cell_type": "code",
   "execution_count": 11,
   "metadata": {
    "scrolled": true
   },
   "outputs": [
    {
     "data": {
      "text/plain": [
       "Index([u'C', u'CB', u'DE', u'DT', u'DT/ldt', u'FB', u'FB/rb', u'FB/wr', u'FS',\n",
       "       u'K', u'LCB', u'LDT/rdt', u'LG', u'LT', u'NT', u'P', u'QB', u'QB/wr',\n",
       "       u'RB', u'RB/te', u'TE', u'TE/wr', u'WR', u'c', u'cb', u'cb/rcb', u'db',\n",
       "       u'db/s/ss', u'db/ss', u'de/NT', u'dt/LDT/rdt', u'dt/T', u'fb', u'fb/RB',\n",
       "       u'fb/TE', u'fb/TE/wr', u'fb/WR', u'fb/rb', u'fb/rb/te', u'fb/rb/wr',\n",
       "       u'fb/tb/TE', u'fb/te', u'fb/te/wr', u'fb/wr', u'fs', u'fs/SS', u'fs/ss',\n",
       "       u'k/wr', u'lcb', u'lcb/wr', u'lg/RT/t', u'mlb', u'p', u'p/TE', u'qb',\n",
       "       u'qb/RB', u'rb', u'rb/TE', u'rb/WR', u'rb/te', u'rb/te/wr', u'rb/wr',\n",
       "       u'rt', u'rt/t/te', u's', u's/ss', u'ss', u't/te', u'tb/TE', u'tb/te',\n",
       "       u'te', u'te/wr', u'wr'],\n",
       "      dtype='object')"
      ]
     },
     "execution_count": 11,
     "metadata": {},
     "output_type": "execute_result"
    }
   ],
   "source": [
    "nfl.Pos.astype('category').cat.categories"
   ]
  },
  {
   "cell_type": "code",
   "execution_count": 12,
   "metadata": {},
   "outputs": [],
   "source": [
    "def position_fix(data):\n",
    "    if data.Pos == 'wr' or data.Pos == 'WR': \n",
    "        return 'WR'"
   ]
  },
  {
   "cell_type": "code",
   "execution_count": 13,
   "metadata": {},
   "outputs": [],
   "source": [
    "nfl.Pos = nfl.apply(position_fix, axis = 1)\n",
    "wr = nfl[nfl.Pos == 'WR']"
   ]
  },
  {
   "cell_type": "markdown",
   "metadata": {},
   "source": [
    "## Cleaning Data"
   ]
  },
  {
   "cell_type": "code",
   "execution_count": 14,
   "metadata": {
    "scrolled": true
   },
   "outputs": [],
   "source": [
    "wr['Receiving Ctch%'] = wr['Receiving Ctch%'].str[:-1].astype('float64')"
   ]
  },
  {
   "cell_type": "code",
   "execution_count": 15,
   "metadata": {},
   "outputs": [],
   "source": [
    "wr = wr.fillna(0)\n",
    "wr = wr.drop(['Tm', 'Pos'], axis = 1)"
   ]
  },
  {
   "cell_type": "code",
   "execution_count": 16,
   "metadata": {
    "scrolled": false
   },
   "outputs": [
    {
     "data": {
      "text/html": [
       "<div>\n",
       "<style scoped>\n",
       "    .dataframe tbody tr th:only-of-type {\n",
       "        vertical-align: middle;\n",
       "    }\n",
       "\n",
       "    .dataframe tbody tr th {\n",
       "        vertical-align: top;\n",
       "    }\n",
       "\n",
       "    .dataframe thead th {\n",
       "        text-align: right;\n",
       "    }\n",
       "</style>\n",
       "<table border=\"1\" class=\"dataframe\">\n",
       "  <thead>\n",
       "    <tr style=\"text-align: right;\">\n",
       "      <th></th>\n",
       "      <th></th>\n",
       "      <th>Age</th>\n",
       "      <th>Games G</th>\n",
       "      <th>Games GS</th>\n",
       "      <th>Receiving Tgt</th>\n",
       "      <th>Receiving Rec</th>\n",
       "      <th>Receiving Yds</th>\n",
       "      <th>Receiving Y/R</th>\n",
       "      <th>Receiving TD</th>\n",
       "      <th>Receiving Lng</th>\n",
       "      <th>Receiving R/G</th>\n",
       "      <th>Receiving Y/G</th>\n",
       "      <th>Receiving Ctch%</th>\n",
       "      <th>Fmb</th>\n",
       "    </tr>\n",
       "    <tr>\n",
       "      <th>Year</th>\n",
       "      <th>Player</th>\n",
       "      <th></th>\n",
       "      <th></th>\n",
       "      <th></th>\n",
       "      <th></th>\n",
       "      <th></th>\n",
       "      <th></th>\n",
       "      <th></th>\n",
       "      <th></th>\n",
       "      <th></th>\n",
       "      <th></th>\n",
       "      <th></th>\n",
       "      <th></th>\n",
       "      <th></th>\n",
       "    </tr>\n",
       "  </thead>\n",
       "  <tbody>\n",
       "    <tr>\n",
       "      <th rowspan=\"5\" valign=\"top\">2013</th>\n",
       "      <th>Josh Gordon</th>\n",
       "      <td>22</td>\n",
       "      <td>14</td>\n",
       "      <td>14</td>\n",
       "      <td>159.0</td>\n",
       "      <td>87</td>\n",
       "      <td>1646</td>\n",
       "      <td>18.9</td>\n",
       "      <td>9</td>\n",
       "      <td>95</td>\n",
       "      <td>6.2</td>\n",
       "      <td>117.6</td>\n",
       "      <td>54.7</td>\n",
       "      <td>0</td>\n",
       "    </tr>\n",
       "    <tr>\n",
       "      <th>Alshon Jeffery</th>\n",
       "      <td>23</td>\n",
       "      <td>16</td>\n",
       "      <td>14</td>\n",
       "      <td>148.0</td>\n",
       "      <td>89</td>\n",
       "      <td>1421</td>\n",
       "      <td>16.0</td>\n",
       "      <td>7</td>\n",
       "      <td>80</td>\n",
       "      <td>5.6</td>\n",
       "      <td>88.8</td>\n",
       "      <td>60.1</td>\n",
       "      <td>3</td>\n",
       "    </tr>\n",
       "    <tr>\n",
       "      <th>Antonio Brown</th>\n",
       "      <td>25</td>\n",
       "      <td>16</td>\n",
       "      <td>14</td>\n",
       "      <td>167.0</td>\n",
       "      <td>110</td>\n",
       "      <td>1499</td>\n",
       "      <td>13.6</td>\n",
       "      <td>8</td>\n",
       "      <td>56</td>\n",
       "      <td>6.9</td>\n",
       "      <td>93.7</td>\n",
       "      <td>65.9</td>\n",
       "      <td>1</td>\n",
       "    </tr>\n",
       "    <tr>\n",
       "      <th>Calvin Johnson</th>\n",
       "      <td>28</td>\n",
       "      <td>14</td>\n",
       "      <td>14</td>\n",
       "      <td>156.0</td>\n",
       "      <td>84</td>\n",
       "      <td>1492</td>\n",
       "      <td>17.8</td>\n",
       "      <td>12</td>\n",
       "      <td>87</td>\n",
       "      <td>6.0</td>\n",
       "      <td>106.6</td>\n",
       "      <td>53.8</td>\n",
       "      <td>1</td>\n",
       "    </tr>\n",
       "    <tr>\n",
       "      <th>Demaryius Thomas</th>\n",
       "      <td>26</td>\n",
       "      <td>16</td>\n",
       "      <td>16</td>\n",
       "      <td>142.0</td>\n",
       "      <td>92</td>\n",
       "      <td>1430</td>\n",
       "      <td>15.5</td>\n",
       "      <td>14</td>\n",
       "      <td>78</td>\n",
       "      <td>5.8</td>\n",
       "      <td>89.4</td>\n",
       "      <td>64.8</td>\n",
       "      <td>2</td>\n",
       "    </tr>\n",
       "  </tbody>\n",
       "</table>\n",
       "</div>"
      ],
      "text/plain": [
       "                       Age  Games G  Games GS  Receiving Tgt  Receiving Rec  \\\n",
       "Year Player                                                                   \n",
       "2013 Josh Gordon        22       14        14          159.0             87   \n",
       "     Alshon Jeffery     23       16        14          148.0             89   \n",
       "     Antonio Brown      25       16        14          167.0            110   \n",
       "     Calvin Johnson     28       14        14          156.0             84   \n",
       "     Demaryius Thomas   26       16        16          142.0             92   \n",
       "\n",
       "                       Receiving Yds  Receiving Y/R  Receiving TD  \\\n",
       "Year Player                                                         \n",
       "2013 Josh Gordon                1646           18.9             9   \n",
       "     Alshon Jeffery             1421           16.0             7   \n",
       "     Antonio Brown              1499           13.6             8   \n",
       "     Calvin Johnson             1492           17.8            12   \n",
       "     Demaryius Thomas           1430           15.5            14   \n",
       "\n",
       "                       Receiving Lng  Receiving R/G  Receiving Y/G  \\\n",
       "Year Player                                                          \n",
       "2013 Josh Gordon                  95            6.2          117.6   \n",
       "     Alshon Jeffery               80            5.6           88.8   \n",
       "     Antonio Brown                56            6.9           93.7   \n",
       "     Calvin Johnson               87            6.0          106.6   \n",
       "     Demaryius Thomas             78            5.8           89.4   \n",
       "\n",
       "                       Receiving Ctch%  Fmb  \n",
       "Year Player                                  \n",
       "2013 Josh Gordon                  54.7    0  \n",
       "     Alshon Jeffery               60.1    3  \n",
       "     Antonio Brown                65.9    1  \n",
       "     Calvin Johnson               53.8    1  \n",
       "     Demaryius Thomas             64.8    2  "
      ]
     },
     "execution_count": 16,
     "metadata": {},
     "output_type": "execute_result"
    }
   ],
   "source": [
    "wr.head()"
   ]
  },
  {
   "cell_type": "code",
   "execution_count": 17,
   "metadata": {
    "scrolled": false
   },
   "outputs": [
    {
     "name": "stdout",
     "output_type": "stream",
     "text": [
      "<class 'pandas.core.frame.DataFrame'>\n",
      "MultiIndex: 860 entries, (2013, Josh Gordon) to (2018, Darrius Heyward-Bey)\n",
      "Data columns (total 13 columns):\n",
      "Age                860 non-null int64\n",
      "Games G            860 non-null int64\n",
      "Games GS           860 non-null int64\n",
      "Receiving Tgt      860 non-null float64\n",
      "Receiving Rec      860 non-null int64\n",
      "Receiving Yds      860 non-null int64\n",
      "Receiving Y/R      860 non-null float64\n",
      "Receiving TD       860 non-null int64\n",
      "Receiving Lng      860 non-null int64\n",
      "Receiving R/G      860 non-null float64\n",
      "Receiving Y/G      860 non-null float64\n",
      "Receiving Ctch%    860 non-null float64\n",
      "Fmb                860 non-null int64\n",
      "dtypes: float64(5), int64(8)\n",
      "memory usage: 99.5+ KB\n"
     ]
    }
   ],
   "source": [
    "wr.info()"
   ]
  },
  {
   "cell_type": "markdown",
   "metadata": {},
   "source": [
    "## K-Means Implementation"
   ]
  },
  {
   "cell_type": "code",
   "execution_count": 18,
   "metadata": {},
   "outputs": [],
   "source": [
    "wr_stan=StandardScaler().fit_transform(wr)"
   ]
  },
  {
   "cell_type": "code",
   "execution_count": 19,
   "metadata": {},
   "outputs": [
    {
     "data": {
      "image/png": "[encoded data removed]",
      "text/plain": [
       "<Figure size 432x288 with 1 Axes>"
      ]
     },
     "metadata": {
      "needs_background": "light"
     },
     "output_type": "display_data"
    }
   ],
   "source": [
    "pca_fit = PCA().fit(wr_stan)\n",
    "plt.plot(np.cumsum(pca_fit.explained_variance_ratio_))\n",
    "plt.xlabel('# of Components')\n",
    "plt.ylabel('Cumulative Explained Variance')\n",
    "plt.show()"
   ]
  }
 ],
 "metadata": {
  "kernelspec": {
   "display_name": "Python 2",
   "language": "python",
   "name": "python2"
  },
  "language_info": {
   "codemirror_mode": {
    "name": "ipython",
    "version": 2
   },
   "file_extension": ".py",
   "mimetype": "text/x-python",
   "name": "python",
   "nbconvert_exporter": "python",
   "pygments_lexer": "ipython2",
   "version": "2.7.10"
  }
 },
 "nbformat": 4,
 "nbformat_minor": 2
}
