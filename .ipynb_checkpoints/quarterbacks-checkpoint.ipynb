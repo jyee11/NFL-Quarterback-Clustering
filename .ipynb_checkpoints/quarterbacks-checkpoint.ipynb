{
 "cells": [
  {
   "cell_type": "markdown",
   "metadata": {},
   "source": [
    "# NFL Quarterback Clustering"
   ]
  },
  {
   "cell_type": "markdown",
   "metadata": {},
   "source": [
    "## Project Overview"
   ]
  },
  {
   "cell_type": "markdown",
   "metadata": {},
   "source": [
    "In the National Football League (NFL), a franchise's starting quarterback is often considered the most important position and player on the team. A quarterback in the NFL is tasked with directing the offense and being an extension of the coaching staff, whom call plays for the quarterback to relay to his team. Because of their critical importance to their team, a quarterback is often the highest paid player on his respective team. There is a narrative in the NFL that a team cannot excel without a good quarterback. With that said, our project aims to using Principal Component Analysis and K-Means Clustering to see whether or not we can separate quarterbacks into distinct tiers or clusters to see whether or not we can see what makes up an elite quarterback in the NFL."
   ]
  },
  {
   "cell_type": "markdown",
   "metadata": {},
   "source": [
    "## Background Information\n",
    "\n",
    "### Football Terms\n",
    "\n",
    "- <b>First-String Players</b> The players on a football team who play most, if not all, of the team's offensive or defensive plays. These players are deemed as the starters.\n",
    "- <b>Possession:</b> When a team has the football and is trying to score.\n",
    "- <b>Rushing:</b> When a player is handed off the ball by the quarterback to run with the football.\n",
    "- <b>Reception:</b> When a player catches the football from a pass.\n",
    "- <b>Target:</b> A receiver is considered to be targeted by the quarterback when a pass is thrown in his direction.\n",
    "- <b>Rushing the passer:</b> Different from rushing, this is when players on the defense try to break past the offensive line to sack the quarterback.\n",
    "- <b>Tackle:</b> Taking down a player when they have the football.\n",
    "- <b>Sack:</b> Tackling the quarterback when he is behind the line of scrimmage.\n",
    "- <b>Blocking:</b> Cutting off a defensive player's path to tackling the offensive player who has the ball.\n",
    "- <b>Snap:</b> When the center gives the ball from under his legs to the quarterback, thus starting the play.\n",
    "- <b>Line of Scrimmage:</b> The imaginary line between the two teams where the football is snapped. \n",
    "- <b>Down (verb):</b> When the ball carrier is tackled to the ground by the defensive team. A player is considered to be down if any part of his body other than his hands or feet touch the ground while having contact with a defensive player. A ball carrier can also be considered down if he runs out of bounds.\n",
    "- <b>Down (noun):</b> A play. A team is given 4 sets of downs per offensive possession. \n",
    "- <b>First Down:</b> Advancing the ball 10 yards past the line of scrimmage. Obtaining a first down results in a fresh set of 4 downs for the offensive team. \n",
    "- <b>End Zone:</b> The area at the ends of the field where a team must cross into to score.\n",
    "- <b>Goal Line:</b> The line that designates the beginning of the endzone.\n",
    "- <b>Touchdown:</b> When a team gets into the opposing team's endzone. Touchdowns are worth 6 points.\n",
    "- <b>Field Goal:</b> When a kicker kicks the football between the goal posts. Field Goals are worth 3 points.\n",
    "- <b>Extra Point:</b> When a team scores a touchdown, they have the option to kick the ball through the goal posts from 15 yards from the goal line to score 1 point.\n",
    "- <b>2-Point Conversion:</b> After scoring a touchdown, the team can opt to run one offensive play ran from the 2 yard line that is worth 2 points if the team reaches the endzone.\n",
    "- <b>Safety:</b> When a ball carrier is tackled in his own endzone. A safety is worth 2 points to the defensive team and awards possession to the defensive team. \n",
    "- <b>Checkdown:</b> A short, dump-off pass, usually to a team's running back, when all wide receivers are covered.\n",
    "- <b>Offensive Line:</b> Players on the offense who line up in front of the quarterback at the line of scrimmage. Consist of the Center, Offensive Guard, and Offensive Tackles. \n",
    "- <b>Defensive Line:</b> Players on the defense who line up opposite of the offensive line to try to sack the quarterback or make a stop on the play. Consist of the Defensive Tackles and Defensive Ends.\n",
    "- <b>Defensive Backs:</b> Defensive players who try to prevent the wide receivers from catching passes.\n",
    "- <b>Field Position:</b> Where the offensive team is on the field, denoted by yard-line.\n",
    "- <b>Punting:</b> On 4th down, a team can punt the ball in the direction of their opponent's own end-zone to prevent their opponent from having good field position.\n",
    "- <b>Turnover:</b>: When the offensive team gives up the ball to the defensive team. A turnover can be achieved on downs, an interception, or fumble.\n",
    "- <b>Interception/Pick:</b> When a defensive player catches a pass from the offensive team's quarterback. Results in a change in possession. \n",
    "- <b>Fumble:</b> When a ball carrier loses the football. If the ball is recovered by the offensive team, they retain possession. If the ball is recovered by the defensive team, it is a lost fumble and the defensive team now has possession. After a fumble, the next down is started at the spot where the football was recovered.  \n",
    "- <b>Turnover on Downs:</b> When a team fails to advance the ball 10 yards past the line of scrimmage. If a team punts the ball, it is not considered a turnover on downs.\n",
    "- <b>Audible:</b> When the quarterback changes the play at the line of scrimmage.\n",
    "- <b>Blitz:</b> When extra players, other than the defensive lineman, are sent to try to sack the quarterback.\n",
    "- <b>Lateral:</b> A pass thrown parallel to or in the backwards direction from a team's goal line.\n",
    "- <b>Red Zone:</b> When the offensive team is within 20 yards of the opposing team's endzone.\n",
    "- <b>Hail Mary:</b> A very long, desperation pass made in an attempt to score. Usually these passes occur at the end of games where the offensive team must score to win the game. Hail Marys are usually unsuccessful.\n",
    "- <b>Kickoff:</b> The start of a new possesion after the other team has scored. The team who just scored kicks the ball toward the other team's endzone.\n",
    "- <b>Onside Kick:</b> During a kickoff, a team may elect to kick the ball a very short distance in an attempt to get another offensive possession. The onside kick must travel at least 15 yards before players on the kicking team may touch the ball, but a kicking team player is allowed to touch the ball before the 15 yard distance if a player on the opposing team touches the ball first.\n",
    "- <b>Touchback:</b> When a punt or kickoff kick travels beyond the receiving team's endzone. The ball is placed on the team's own 25 yard line as a result of a touchback.\n",
    "- <b>Field Goal Range:</b> When a team is within the ideal range to attempt a field goal. Field goal range is usually around 50 yards from the goal posts as attempted field goals beyond this distance have lower conversion rates."
   ]
  },
  {
   "cell_type": "markdown",
   "metadata": {},
   "source": [
    "### Basics of Football\n",
    "\n",
    "In a football game, a team's objective is to move the football down the field with the main goal of reaching the other team's endzone, thus scoring a touchdown which is worth 6 points. A team can move the football through rushing or passing the football. A team is given 4 sets of down for each offensive possession and a fresh set of 4 downs are given everytime a team gets a first down. After scoring a touchdown, a team can either kick an extra point, a kick attempt from 33 yards out that is worth 1 point if converted or go for a 2-point conversion, one offensive play from the 2 yard line that is worth 2 points if the team reachs the endzone. If a team is unable to score a touchdown, they instead settle for a field goal, which is worth 3 points. A team can also commit a turnover through an interception, lost fumble, or a safety. If a team fails to obtain a first down after 3 downs, they can either punt the ball to the other team or \"go for it\" and try to obtain a first down on their 4th down. Failing to convert on 4th down results in giving possesion to the other team on the line of scrimmage. \n",
    "\n",
    "When a team is on defense, their objective is to stop the the other team from scoring. Being able to hold the opposing team to a field goal is considered satisfactory but ideally, a defense is able force the opposing team to punt or commit a turnover. Special teams are responsible to the change of possesion plays: kickoffs and punts. During kickoffs and punts, the kicking team is attempting to give the worst possible field position to the receiving team. The receiving team can either return the football (catch the kick and run it) in an attempt to gain better field position (or possibly score a touchdown), kneel in the endzone (resulting in a touchback), or call for a fair catch, resulting in the offense starting from the spot of the catch."
   ]
  },
  {
   "cell_type": "markdown",
   "metadata": {},
   "source": [
    "### Positions\n",
    "\n",
    "##### Offensive:\n",
    "- <b>Quarterback</b>\n",
    "    - Considered the most important position on a football team. A quarterback relays the coaching staff's plays to the rest of the offense, however it is up to a quarterback to call an audible to change the play or run the designated play if he sees something in the other's teams defense formation. A quarterback can be lined up under the center or in shotgun. Quarterbacks mainly have three options when they receive the ball: make a forward pass, hand the ball off to the running back, or run the football themselves.\n",
    "    \n",
    "- <b>Running Back</b>\n",
    "    - Running backs are players who line up behind the line of scrimmage either behind or next to the quarterback depending on the play. They either are handed off the football by the quarterback to rush the football, block the pass-rushers on the other team, or leak out beyond the line of scrimmage to receive a checkdown from the quarterback.\n",
    "    \n",
    "- <b>Wide Receiver</b>\n",
    "    - Wide Receivers catch passes from the quarterback. The main objective is to run routes to get open for their quarterback to pass them the ball. A good wide receiver has good hands, and speed. Wide receivers can line up behind the line of scrimmage, out wide (outermost receiver on the line of scrimmage), or in the slot (in between the receiver out wide and the offensive line).\n",
    "- <b>Tight End</b>\n",
    "    - Tight Ends are considered to be hybrid players who can function as an extra blocker to protect the quarterback or run routs as a receiver. Most Tight Ends are blocking tight ends who only occasionally catch passes. The best tight ends in the NFL are good at both catching passes as well as blocking. Tight ends are usually targetted in the red zone as they are usually bigger and stronger than wide receivers with the average height and weight of a tight end being 6'3\" and 240 lbs, respectively. \n",
    "- <b>Center</b>\n",
    "    - The Center snaps the ball to the quarterback, thus starting the offensive play. Centers also block and protect the quarterback from being sacked. As part of the offensive line, they also block to open up running lanes on rushing plays.\n",
    "- <b>Right/Left Guard</b>\n",
    "    - Protects the quarterback from the opposing team's defensive tackles. As part of the offensive line, they also block to open up running lanes on rushing plays.\n",
    "- <b>Right/Left Tackle</b>\n",
    "    - Protects the quarterback from the opposing team's defensive ends. As part of the offensive line, they also block to open up running lanes on rushing plays.\n",
    "- <b>Fullback</b>\n",
    "    - An extra blocker that lines up behind the quarterback but in front of the running back. Because they are usually only used on rushing plays, their main objective is to help further clear lanes for the running back to run the ball, although they can also rush the ball and catch the ball if need be.\n",
    "\n",
    "##### Defensive:\n",
    "- <b>Defensive End</b>\n",
    "    - A defensive end rushes the passer and stops the opposing team's rusher from running around the outside of the line.\n",
    "- <b>Defensive Tackle</b>\n",
    "    - Similar to a defensive end, defensive tackles rush the passer and stop the opposing team's rusher from running through the middle on rushing plays.\n",
    "- <b>Middle Linebacker</b>\n",
    "    - Considered to the \"quarterback on defense\", middle linebackers primarily call the team's defensive plays and must be able adjust to multiple situations. Depending on the play, a middle linebacker may stop the running back if he has broken past the defensive line, cover the middle of the field on passing plays, or rush the passer on blitz plays.\n",
    "- <b>Outside Linebacker</b>\n",
    "    - Outside linebackers often cover tight ends on their routes, or rush the passer when the tight end is blocking to protect his quarterback. Outside linebackers are also responsible for stopping the running back if he has broken past the defensive end.\n",
    "- <b>Cornerback</b>\n",
    "    - Cornerbacks are responsible for covering the other team's opposing wide receiver and prevent them from catching passes from the opposing team's quarterback.\n",
    "- <b>Safety</b>\n",
    "    - Safetys are considered to be the last line of defense. Strong safetys are usually bigger and stronger and add a layer of extra protection on run plays while free safetys usually help cornerbacks with covering long pass plays. A free safety might help a cornerback double team an opposing team's number 1 wide receiver.\n",
    "\n",
    "##### Special Teams:\n",
    "- <b>Kicker</b>\n",
    "    - Responisble for kicking field goals and extra points. Some kickers also kick on kickoffs.\n",
    "- <b>Holder</b>\n",
    "    - Holds the ball on the ground for the kicker to kick.\n",
    "- <b>Long Snapper</b>\n",
    "    - Similar to a center but for special teams, a long snapper snaps the ball to the holder.\n",
    "- <b>Punter</b>\n",
    "    - Responsible for punting the ball on punt plays. Some punters kick for kickoffs.\n",
    "- <b>Kick/Punt Returner</b>\n",
    "    - A receiving team's player who catches and returns the ball on kickoffs and punts. Usually the kick/punt returner is a young wide receiver who either is not in the starting lineup or does not play a large role during offensive plays.\n",
    "- <b>Upback</b>\n",
    "    - Upbacks protect the punter, acting as the last line of defense to ensure the punt is not blocked.\n",
    "- <b>Gunner</b>\n",
    "    - Players designated in running down the field to tackle the kick/punt returner.\n",
    "- <b>Jammer</b>\n",
    "    - Players designated to block the gunners."
   ]
  },
  {
   "cell_type": "markdown",
   "metadata": {},
   "source": [
    "### General Structure of NFL\n",
    "The National Football League (NFL) is an American professional football league that consists of 32 teams where 16 teams are part of the National Football Conference (NFC) and the other 16 teams are part of the American Football Conference (AFC). In addition to  being separated into 2 distinct conferences, the teams within a conference are also divided into 4 divisions. The divisions are the following:\n",
    "\n",
    "##### American Football Conference (AFC)\n",
    "- AFC East\n",
    "    - New England Patriots (NWE)\n",
    "    - Miami Dolphins (MIA)\n",
    "    - Buffalo Bills (BUF)\n",
    "    - New York Jets (NYJ)\n",
    "- AFC West\n",
    "    - Kansas City Chiefs (KAN)\n",
    "    - Los Angeles Chargers (LAC)\n",
    "    - Denver Broncos (DEN)\n",
    "    - Oakland Raiders (OAK)\n",
    "- AFC North\n",
    "    - Pittsburgh Steelers (PIT)\n",
    "    - Baltimore Ravens (BAL)\n",
    "    - Cincinnati Bengals (CIN)\n",
    "    - Cleveland Browns (CLE)\n",
    "- AFC South\n",
    "    - Houston Texans (HOU)\n",
    "    - Indianapolis Colts (IND)\n",
    "    - Tennessee Titans (TEN)\n",
    "    - Jacksonville Jaguars (JAX)\n",
    "\n",
    "<br>\n",
    "\n",
    "##### National Football Conference (NFC)\n",
    "- NFC East\n",
    "    - Dallas Cowboys (DAL)\n",
    "    - Philadelphia Eagles (PHI)\n",
    "    - Washington Redskins (WAS)\n",
    "    - New York Giants (NYG)\n",
    "- NFC West\n",
    "    - Los Angeles Rams (LAR)\n",
    "    - Seattle Seahawks (SEA)\n",
    "    - Arizona Cardinals (ARI)\n",
    "    - San Francisco 49ers (SFO)\n",
    "- NFC North\n",
    "    - Chicago Bears (CHI)\n",
    "    - Minnesota Vikings (MIN)\n",
    "    - Green Bay Packers (GNB)\n",
    "    - Detroit Lions (DET)\n",
    "- NFC South\n",
    "    - New Orleans Saints (NOR)\n",
    "    - Carolina Panthers (CAR)\n",
    "    - Tampa Bay Buccaneers (TAM)\n",
    "    - Atlanta Falcons (ATL)\n"
   ]
  },
  {
   "cell_type": "markdown",
   "metadata": {},
   "source": [
    "### Structure of NFL season\n",
    "\n",
    "#### Preseason\n",
    "The NFL preseason consists of 4 exhibition games that have no effect on a team's standing or record. Preseason games are usually an opportunity for training camp/practice squad players to earn a spot on a team's roster while also giving first-string players a chance to practice and work into shape.  \n",
    "\n",
    "#### Regular Season\n",
    "The NFL season consists of 17 weeks with 16 games played from August to December with an additional postseason playoffs for qualified teams. Each team plays has a designated BYE week where the team does not play and is allowed an additional week of rest. All NFL games are played on Sundays with the exception of 2 games each week: one of which is played on Thursday and the other being played on Monday. \n",
    "\n",
    "There are considered to be 3 \"marquee\" games that are played each week: \n",
    "\n",
    "- <i>Thursday Night Football</i>\n",
    "- <i>Sunday Night Football</i>\n",
    "- <i>Monday Night Football</i>\n",
    "\n",
    "Thanksgiving week is the one exception to the week to week game schedule structure that the NFL follows. On Thanksgiving, instead of playing one game on <i>Thursday Night Football</i>, three games are played on three different timeslots on Thanksgiving.  \n",
    "\n",
    "#### Postseason/Playoffs\n",
    "Teams must qualify in order to make the postseason of the NFL. Six teams from each conference are will qualify for the playoffs, the division winner from each division and 2 wildcard spots from each conference. The two wildcard teams from each conference are teams two best teams from each conference excluding the division winners. "
   ]
  },
  {
   "cell_type": "markdown",
   "metadata": {},
   "source": [
    "### NFL Rosters\n",
    "A current NFL roster consists of 53 active players, meaning players who are healthy and a part of the team's roster on each Sunday. A NFL team consists of the three categoriess of football players: offensive players, defensive players, and special teams. There are not any set restrictions as to how many of each type a player a team must roster, but most teams have a good balance between the three types of players. "
   ]
  },
  {
   "cell_type": "markdown",
   "metadata": {},
   "source": [
    "### Data Description\n",
    "\n",
    "#### General information about Quarterback statistics\n",
    "Quarterbacks are usually separated into 2 types: a gunslinger and a game manager. A gunslinger is characterized as a quarterback who loves to take risks, often throwing many long passes and risky passes that can either result in big plays or an interception. A game manager usually has a negative connotation attached and is a quarterback who mainly attempts safe, short passes. Game managers are usually afraid to take risks such as throwing long passes and are considered to be quarterbacks who try not to make mistakes and fail to make their teammates better.  \n",
    "\n",
    "The best quarterbacks are usually a mixture of a gunslinger and a game manager. These quarterbacks are able to throw quick, accurate passes while also being able to make the big plays. They are able to read the defenses to determine the best option on any given play. A quarterback with these skills are considered to be elite, but there are few elite quarterbacks in the NFL.\n",
    "\n",
    "Statistically, a quarterback may be considered to have a great game if he is able to throw for 250 yards and 2 touchdowns with no interceptions. If a quarterback is able to achieve these marks each game over the course of a 16 game season, he would end the season with 4000 passing yards and 32 touchdowns, but no quarterback achieves these ideal stats. It is hotly debated what an elite quarterback's stats should be. Usually, over 4000 passing yards is considered great for a quarterback. The number of touchdowns and interceptions a quarterback throws and a quarterback's TD:INT ratio always has to be taken into context. A quarterback may throw 30 touchdowns and 20 interceptions in a season and have a lower TD:INT ratio than a quaterback who threw for 15 touchdowns and 5 interceptions. In general, a TD:INT ratio over 2 is considered to be great given that there is enough volume. A general baseline for a great/elite quarterback would be 30 or more touchdowns and 10 or fewer interceptions over the course of a 16 game season. However, other factors like personnel and team's win-loss must be taken into consideration when determining if a quarterback is elite.\n",
    "\n",
    "#### Data\n",
    "All of the data we are using in this project comes from https://www.pro-football-reference.com/. For this project, we extracted the quarterback passing and rushing statistics from the 2013-2017 seasons. We chose not to include the 2018 NFL season because the season is still in progress.\n",
    "\n",
    "#### Variables\n",
    "\n",
    "- <b>Player:</b> The name of the NFL player.\n",
    "- <b>Tm:</b> The team the NFL player played for. If the player played for multiple teams in during the respective season, their team is designated as '2TM' or '3TM'.\n",
    "- <b>Age:</b> Age of the player.\n",
    "- <b>Pos:</b> NFL Player's position\n",
    "- <b>G:</b> Number of games the player played in.\n",
    "- <b>GS:</b> Number of games the player started.\n",
    "- <b>QBrec:</b> The quarterback's record in the games he played. Formatted as \"Win-Loss-Tie\".\n",
    "- <b>Cmp:</b> Number of pass completions thrown in the respective season.\n",
    "- <b>Att:</b> Number of attempted passes in the respective season.\n",
    "- <b>Cmp%:</b> Percent of passes completed.\n",
    "- <b>Yds:</b> Total number yards thrown.\n",
    "- <b>TD:</b> Number of passing touchdowns.\n",
    "- <b>TD%:</b> Percentage of passing touchdowns when attempting a pass.\n",
    "- <b>Int:</b> Number of interceptions thrown.\n",
    "- <b>Int%:</b> Percentage of interceptions thrown when attempting a pass.\n",
    "- <b>Lng:</b> Longest completed pass.\n",
    "- <b>Y/A:</b> Yards gained per attempted pass.\n",
    "- <b>AY/A:</b> Adjusted yards gained per attempted pass. Calculated using the following formula: (Passing yards + 20 * Passing TDS - 45 * Interceptions)/(Passes Attempted)\n",
    "- <b>Y/C:</b> Yards gained per completed pass.\n",
    "- <b>Y/G:</b> Yards thrown per game.\n",
    "- <b>Rate:</b> Passing Rating. See below for more details.\n",
    "- <b>QBR:</b> ESPNs Total Quarterback Rating. Meant to measure the quarterback's performance beyond just passing.\n",
    "- <b>Sk:</b> Number of times sacked\n",
    "- <b>Yds2:</b> Yards lost on sacks.\n",
    "- <b>NY/A:</b> Net yards gained per pass attempt. Calculated with the following formula: (Passing yards - Sack yards)/(Passes attempted + Times sacked).\n",
    "- <b>ANY/A:</b> Adjustednet yards per pass attempt. Calculated using the following formula: (Passing yards - Sack yards + (20 * Passing Touchdowns) - (45 * Interceptions thrown))/(Passing Yards + Times sacked).\n",
    "- <b>Sk%:</b> Percentage of times sacked when attempting a pass.\n",
    "- <b>4QC:</b> Number of 4th quarter comebacks, an offensive scoring drive in the 4th quarter with the team trailing by one score. Must result in the player's team winning.\n",
    "- <b>GWD:</b> Number of game winning drives, an offensive drive that puts their team ahead in the 4th quarter or overtime for the last time in the game.\n",
    "- <b>Pro_Bowl:</b> Whether or not the player made the Pro Bowl that season.\n",
    "- <b>Rushing Att:</b> Number of rushing attempts.\n",
    "- <b>Rushing Yds:</b> Total number of rushing yards.\n",
    "- <b>Rushing TD:</b> Number of rushing touchdowns.\n",
    "- <b>Division:</b> The division a player's team is in.\n",
    "- <b>Conference:</b> The conference a player's team is in.\n",
    "- <b>wins:</b> Number of wins in the games the player played.\n",
    "- <b>losses:</b> Number of losses in the games the player played.\n",
    "- <b>ties:</b> Number of ties in the games the player played.\n",
    "- <b>win%:</b> Percentage of games the player won.\n",
    "\n",
    "#### Passer Rating\n",
    "In general, passer rating is a good general way to measure a quarterback's performance, but it is still a flawed measurement. A good comparison would be using BMI to measure one's health. BMI does not take into account body fat percentage, thus many fit, muscular athletes are categorized as overweight or obese when they are in fact very fit and healthy. Passer rating is a good screen test for a quarterback's performance, but a player's passer rating and statistics must be taken into context before completely judging a quarterback's abilties and performance in the NFL. \n",
    "\n",
    "The maximum possible passer rating in the NFL is 158.3, indicating that a quarterback had a near perfect game. In general, a passer rating of 100+ indicates an excellent performance, 90-100 usually indicates a good quarterback, between 80-90 would be about an average quarterback and anything below 80 indicates a below average quarterback. The league average passer rating in the 2017 NFL season was 88.6, but remember that these are general ranges and passer rating is not a conclusive indicator of a quarterback's performance and abilties.\n",
    "\n",
    "The passer rating formula is shown below:\n",
    "\n",
    "$$a =  (\\frac{COMP}{ATT} - 0.3)\\times 5$$\n",
    "\n",
    "$$b = (\\frac{YDS}{ATT} - 3)\\times 0.25$$\n",
    "\n",
    "$$c = (\\frac{TD}{ATT} - 0.3)\\times 20$$\n",
    "\n",
    "$$d = 2.375 - ((\\frac{COMP}{ATT} - 0.3)\\times 25)$$\n",
    "\n",
    "where:\n",
    "- <b>ATT</b> = Number of passing attempts\n",
    "- <b>COMP</b> = Number of completions\n",
    "- <b>YDS</b> = Number of passing yards\n",
    "- <b>TD</b> = Number of touchdown passes\n",
    "- <b>INT</b> = Number of interceptions thrown\n",
    "\n",
    "$$ Passer Rating = (\\frac{(a + b + c + d)}{6})\\times 100 $$\n",
    "\n",
    "#### How Football Statistics are recorded\n",
    "\n",
    "Stats for football are recorded every game and added into a player's totals for that given season. Usually football stats are viewed as totals from an entire season as opposed to one's average per game, although how many games a player plays is factored into player's evaluation when looking at one's season totals."
   ]
  },
  {
   "cell_type": "markdown",
   "metadata": {},
   "source": [
    "## Data Cleaning/Preparation"
   ]
  },
  {
   "cell_type": "markdown",
   "metadata": {},
   "source": [
    "### Loading necessary libraries"
   ]
  },
  {
   "cell_type": "code",
   "execution_count": 100,
   "metadata": {},
   "outputs": [],
   "source": [
    "import pandas as pd\n",
    "import numpy as np\n",
    "import matplotlib.pyplot as plt\n",
    "import matplotlib.gridspec as gridspec\n",
    "import seaborn as sns\n",
    "import bokeh\n",
    "from scipy.stats import ttest_ind"
   ]
  },
  {
   "cell_type": "code",
   "execution_count": 2,
   "metadata": {},
   "outputs": [],
   "source": [
    "from sklearn.decomposition import PCA\n",
    "from sklearn.preprocessing import StandardScaler\n",
    "from sklearn.model_selection import train_test_split\n",
    "from sklearn.pipeline import Pipeline\n",
    "from sklearn.cluster import KMeans\n",
    "from sklearn.model_selection import GridSearchCV"
   ]
  },
  {
   "cell_type": "code",
   "execution_count": 3,
   "metadata": {},
   "outputs": [],
   "source": [
    "import warnings\n",
    "warnings.filterwarnings('ignore')"
   ]
  },
  {
   "cell_type": "markdown",
   "metadata": {},
   "source": [
    "### Reading in QB Passing and Rushing Data"
   ]
  },
  {
   "cell_type": "code",
   "execution_count": 4,
   "metadata": {},
   "outputs": [],
   "source": [
    "nfl_data = {}\n",
    "rush_filter = ['Player','Rushing Att','Rushing Yds','Rushing TD']"
   ]
  },
  {
   "cell_type": "markdown",
   "metadata": {},
   "source": [
    "The code chunk below creates the dictionary that will be used to make the pro bowl variables."
   ]
  },
  {
   "cell_type": "code",
   "execution_count": 5,
   "metadata": {},
   "outputs": [],
   "source": [
    "pro_bowl = {2014 : ['Cam Newton', 'Nick Foles', 'Andrew Luck', 'Drew Brees', 'Alex Smith', 'Philip Rivers',\n",
    "                   'Russell Wilson', 'Tom Brady', 'Peyton Manning'],\n",
    "            2015 : ['Drew Brees', 'Andrew Luck', 'Andy Dalton', 'Matt Ryan', 'Tony Romo', 'Matthew Stafford',\n",
    "                   'Ben Roethlisberger', 'Tom Brady', 'Aaron Rodgers', 'Peyton Manning'],\n",
    "            2016 : ['Derek Carr', 'Eli Manning', 'Tyrod Taylor', 'Teddy Bridgewater', 'Russell Wilson',\n",
    "                   'Jameis Winston', 'Tom Brady', 'Cam Newton', 'Aaron Rodgers', 'Carson Palmer', \n",
    "                   'Ben Roethlisberger'],\n",
    "            2017 : ['Tom Brady', 'Derek Carr', 'Ben Roethlisberger', 'Alex Smith', 'Andy Dalton', 'Philip Rivers',\n",
    "                   'Matt Ryan', 'Dak Prescott', 'Aaron Rodgers', 'Kirk Cousins', 'Drew Brees'],\n",
    "            2018 : ['Tom Brady', 'Ben Roethlisberger', 'Philip Rivers', 'Alex Smith', 'Derek Carr',\n",
    "                   'Carson Wentz', 'Russell Wilson', 'Drew Brees', 'Jared Goff'],\n",
    "            2019 : ['Patrick Mahomes', 'Philip Rivers', 'Tom Brady', 'Drew Brees', 'Jared Goff', 'Aaron Rodgers', \n",
    "                    'Russell Wilson']}"
   ]
  },
  {
   "cell_type": "code",
   "execution_count": 6,
   "metadata": {},
   "outputs": [],
   "source": [
    "def add_pro_bowl(data, year):\n",
    "    if data.Player in pro_bowl[year]:\n",
    "        return 1\n",
    "    else:\n",
    "        return 0"
   ]
  },
  {
   "cell_type": "markdown",
   "metadata": {},
   "source": [
    "The for loop below reads in the multiple data files while creating the \"Year\" and \"Pro_Bowl\" variable for the datasets. Each year's passing and rushing statistics are merged together and placed in a dictionary."
   ]
  },
  {
   "cell_type": "code",
   "execution_count": 7,
   "metadata": {},
   "outputs": [],
   "source": [
    "for i in range(2013,2019):\n",
    "    nfl = pd.read_csv('Data/nfl-{}.csv'.format(i))\n",
    "    nfl_rr = pd.read_csv('Data/nfl-{}-rr.csv'.format(i))\n",
    "    nfl_rr = nfl_rr[rush_filter]\n",
    "    nfl['Year'] = i\n",
    "    nfl['Pro_Bowl'] = nfl.apply(add_pro_bowl, axis = 1, year = i + 1)\n",
    "    nfl_full = nfl.merge(nfl_rr, on = 'Player', how = 'left')\n",
    "    nfl_full.set_index(['Year', 'Player'], inplace = True)\n",
    "    nfl_data[i] = nfl_full"
   ]
  },
  {
   "cell_type": "code",
   "execution_count": 8,
   "metadata": {
    "scrolled": true
   },
   "outputs": [
    {
     "name": "stdout",
     "output_type": "stream",
     "text": [
      "<class 'pandas.core.frame.DataFrame'>\n",
      "MultiIndex: 86 entries, (2013, Peyton Manning) to (2013, Brad Smith)\n",
      "Data columns (total 33 columns):\n",
      "Rk             86 non-null int64\n",
      "Tm             86 non-null object\n",
      "Age            86 non-null int64\n",
      "Pos            67 non-null object\n",
      "G              86 non-null int64\n",
      "GS             86 non-null int64\n",
      "QBrec          52 non-null object\n",
      "Cmp            86 non-null int64\n",
      "Att            86 non-null int64\n",
      "Cmp%           86 non-null float64\n",
      "Yds            86 non-null int64\n",
      "TD             86 non-null int64\n",
      "TD%            86 non-null float64\n",
      "Int            86 non-null int64\n",
      "Int%           86 non-null float64\n",
      "Lng            86 non-null int64\n",
      "Y/A            86 non-null float64\n",
      "AY/A           86 non-null float64\n",
      "Y/C            76 non-null float64\n",
      "Y/G            86 non-null float64\n",
      "Rate           86 non-null float64\n",
      "QBR            74 non-null float64\n",
      "Sk             86 non-null int64\n",
      "Yds2           86 non-null int64\n",
      "NY/A           86 non-null float64\n",
      "ANY/A          86 non-null float64\n",
      "Sk%            86 non-null float64\n",
      "4QC            38 non-null float64\n",
      "GWD            38 non-null float64\n",
      "Pro_Bowl       86 non-null int64\n",
      "Rushing Att    69 non-null float64\n",
      "Rushing Yds    69 non-null float64\n",
      "Rushing TD     69 non-null float64\n",
      "dtypes: float64(17), int64(13), object(3)\n",
      "memory usage: 23.1+ KB\n"
     ]
    }
   ],
   "source": [
    "nfl_data[2013].info()"
   ]
  },
  {
   "cell_type": "markdown",
   "metadata": {},
   "source": [
    "The for loop below concatenates all of the pandas dataframes inside the dictionary together."
   ]
  },
  {
   "cell_type": "code",
   "execution_count": 9,
   "metadata": {
    "scrolled": true
   },
   "outputs": [],
   "source": [
    "nfl = nfl_data[2013]\n",
    "for i in range(2014,2019):\n",
    "    nfl = pd.concat([nfl, nfl_data[i]])"
   ]
  },
  {
   "cell_type": "markdown",
   "metadata": {},
   "source": [
    "### Filtering to only be Quarterbacks"
   ]
  },
  {
   "cell_type": "markdown",
   "metadata": {},
   "source": [
    "Before we can use the dataset, we first have to filter the data to be only quarterbacks. Thus, we created a basic function that cleaned the position variable, allowing us to filter the dataset to contain only quarterbacks. This dataset is the dataset we will be using for our analysis."
   ]
  },
  {
   "cell_type": "code",
   "execution_count": 10,
   "metadata": {
    "scrolled": true
   },
   "outputs": [
    {
     "data": {
      "text/plain": [
       "Index([u'FB/rb', u'FS', u'K', u'LCB', u'NT', u'P', u'P/WR', u'QB', u'QB/wr',\n",
       "       u'RB', u'TE', u'WR', u'fb/wr', u'fs', u'mlb', u'qb', u'qb/wr', u'rb',\n",
       "       u'rb/wr', u'te', u'te/wr', u'wr'],\n",
       "      dtype='object')"
      ]
     },
     "execution_count": 10,
     "metadata": {},
     "output_type": "execute_result"
    }
   ],
   "source": [
    "nfl.Pos.astype('category').cat.categories"
   ]
  },
  {
   "cell_type": "code",
   "execution_count": 11,
   "metadata": {},
   "outputs": [],
   "source": [
    "def qb_fix(data):\n",
    "    if data.Pos == 'QB/WR' or data.Pos == 'qb' or data.Pos == 'qb/wr' or data.Pos == 'QB':\n",
    "        return 'QB'"
   ]
  },
  {
   "cell_type": "code",
   "execution_count": 12,
   "metadata": {},
   "outputs": [],
   "source": [
    "nfl.Pos = nfl.apply(qb_fix, axis = 1)"
   ]
  },
  {
   "cell_type": "code",
   "execution_count": 13,
   "metadata": {},
   "outputs": [],
   "source": [
    "qb = nfl[nfl.Pos == 'QB']"
   ]
  },
  {
   "cell_type": "markdown",
   "metadata": {},
   "source": [
    "### Adding Conference and Division Variable"
   ]
  },
  {
   "cell_type": "markdown",
   "metadata": {},
   "source": [
    "The next few code chunks below created the \"Conference\" and \"Division\" variables to our dataset."
   ]
  },
  {
   "cell_type": "code",
   "execution_count": 14,
   "metadata": {},
   "outputs": [],
   "source": [
    "conference = {'AFC' : ['NWE', 'BUF', 'NYJ', 'MIA', 'KAN', 'LAC', 'SDG', 'DEN', 'OAK', \n",
    "                       'PIT', 'BAL', 'CIN', 'CLE', 'HOU', 'IND', 'TEN', 'JAX'],\n",
    "              'NFC' : ['DAL', 'PHI', 'WAS', 'NYG', 'STL', 'LAR', 'SEA', 'ARI', 'SFO', \n",
    "                       'CHI', 'MIN', 'GNB', 'DET', 'NOR', 'CAR', 'TAM', 'ATL'],\n",
    "              'Other' : ['3TM', '2TM']}\n",
    "\n",
    "division = {'AFC East' : ['NWE', 'BUF', 'NYJ', 'MIA'],\n",
    "           'AFC West' : ['KAN', 'LAC', 'SDG', 'DEN', 'OAK'],\n",
    "           'AFC North' : ['PIT', 'BAL', 'CIN', 'CLE'],\n",
    "           'AFC South' : ['HOU', 'IND', 'TEN', 'JAX'],\n",
    "           'NFC East' : ['DAL', 'PHI', 'WAS', 'NYG'],\n",
    "           'NFC West' : ['STL', 'LAR', 'SEA', 'ARI', 'SFO'],\n",
    "           'NFC North' : ['CHI', 'MIN', 'GNB', 'DET'],\n",
    "           'NFC South' : ['NOR', 'CAR', 'TAM', 'ATL'],\n",
    "           'Other' : ['3TM', '2TM']}"
   ]
  },
  {
   "cell_type": "code",
   "execution_count": 15,
   "metadata": {},
   "outputs": [],
   "source": [
    "def division_set(data):\n",
    "    if data.Tm in conference['AFC']:\n",
    "        if data.Tm in division['AFC East']:\n",
    "            return 'AFC East'\n",
    "        elif data.Tm in division['AFC West']:\n",
    "            return 'AFC West'\n",
    "        elif data.Tm in division['AFC North']:\n",
    "            return 'AFC North'\n",
    "        elif data.Tm in division['AFC South']:\n",
    "            return 'AFC South'\n",
    "        \n",
    "    elif data.Tm in conference['NFC']:\n",
    "        if data.Tm in division['NFC East']:\n",
    "            return 'NFC East'\n",
    "        elif data.Tm in division['NFC West']:\n",
    "            return 'NFC West'\n",
    "        elif data.Tm in division['NFC North']:\n",
    "            return 'NFC North'\n",
    "        elif data.Tm in division['NFC South']:\n",
    "            return 'NFC South'\n",
    "    else:\n",
    "        return 'Other'"
   ]
  },
  {
   "cell_type": "code",
   "execution_count": 16,
   "metadata": {
    "scrolled": true
   },
   "outputs": [],
   "source": [
    "qb['Division'] = qb.apply(division_set, axis = 1)"
   ]
  },
  {
   "cell_type": "code",
   "execution_count": 17,
   "metadata": {
    "scrolled": false
   },
   "outputs": [],
   "source": [
    "qb['Conference'] = qb.Division.str[0:3]"
   ]
  },
  {
   "cell_type": "markdown",
   "metadata": {},
   "source": [
    "### Creating Wins, Losses, and Win Percentage"
   ]
  },
  {
   "cell_type": "markdown",
   "metadata": {},
   "source": [
    "Next, we cleaned the QBrec variable to become 4 different variables: wins, losses, ties, and win percentage. This will allow us to better analyze a quarterback's record during the respective season."
   ]
  },
  {
   "cell_type": "code",
   "execution_count": 18,
   "metadata": {
    "scrolled": true
   },
   "outputs": [
    {
     "data": {
      "text/plain": [
       "Index([u'0-1-0', u'0-1-1', u'0-15-0', u'0-2-0', u'0-3-0', u'0-4-0', u'0-5-0',\n",
       "       u'0-6-0', u'0-7-0', u'0-8-0',\n",
       "       ...\n",
       "       u'7-9-0', u'8-2-0', u'8-5-0', u'8-6-0', u'8-7-0', u'8-7-1', u'8-8-0',\n",
       "       u'9-6-0', u'9-6-1', u'9-7-0'],\n",
       "      dtype='object', length=103)"
      ]
     },
     "execution_count": 18,
     "metadata": {},
     "output_type": "execute_result"
    }
   ],
   "source": [
    "qb.QBrec.astype('category').cat.categories"
   ]
  },
  {
   "cell_type": "code",
   "execution_count": 19,
   "metadata": {},
   "outputs": [],
   "source": [
    "def win_loss(data, i):\n",
    "    return int(data.QBrec.rsplit('-')[i])"
   ]
  },
  {
   "cell_type": "code",
   "execution_count": 20,
   "metadata": {},
   "outputs": [],
   "source": [
    "qb['wins'] = qb.apply(win_loss, i = 0, axis = 1)\n",
    "qb['losses'] = qb.apply(win_loss, i = 1, axis = 1)\n",
    "qb['ties'] = qb.apply(win_loss, i = 2, axis = 1)"
   ]
  },
  {
   "cell_type": "code",
   "execution_count": 21,
   "metadata": {},
   "outputs": [],
   "source": [
    "qb['win%'] = (qb.wins/(qb.wins + qb.losses + qb.ties))*100"
   ]
  },
  {
   "cell_type": "markdown",
   "metadata": {},
   "source": [
    "### Correcting the variable types"
   ]
  },
  {
   "cell_type": "markdown",
   "metadata": {},
   "source": [
    "Because the rushing related variables were read in as object datatypes, this code chunk simply convertes the three rushing variables to be float types."
   ]
  },
  {
   "cell_type": "code",
   "execution_count": 22,
   "metadata": {},
   "outputs": [],
   "source": [
    "object_types = ['Rushing Att', 'Rushing Yds', 'Rushing TD']\n",
    "\n",
    "for i in object_types:\n",
    "    qb[i] = qb[i].astype('float64') "
   ]
  },
  {
   "cell_type": "code",
   "execution_count": 23,
   "metadata": {},
   "outputs": [
    {
     "data": {
      "text/html": [
       "<div>\n",
       "<style scoped>\n",
       "    .dataframe tbody tr th:only-of-type {\n",
       "        vertical-align: middle;\n",
       "    }\n",
       "\n",
       "    .dataframe tbody tr th {\n",
       "        vertical-align: top;\n",
       "    }\n",
       "\n",
       "    .dataframe thead th {\n",
       "        text-align: right;\n",
       "    }\n",
       "</style>\n",
       "<table border=\"1\" class=\"dataframe\">\n",
       "  <thead>\n",
       "    <tr style=\"text-align: right;\">\n",
       "      <th></th>\n",
       "      <th></th>\n",
       "      <th>Rk</th>\n",
       "      <th>Tm</th>\n",
       "      <th>Age</th>\n",
       "      <th>Pos</th>\n",
       "      <th>G</th>\n",
       "      <th>GS</th>\n",
       "      <th>QBrec</th>\n",
       "      <th>Cmp</th>\n",
       "      <th>Att</th>\n",
       "      <th>Cmp%</th>\n",
       "      <th>...</th>\n",
       "      <th>Pro_Bowl</th>\n",
       "      <th>Rushing Att</th>\n",
       "      <th>Rushing Yds</th>\n",
       "      <th>Rushing TD</th>\n",
       "      <th>Division</th>\n",
       "      <th>Conference</th>\n",
       "      <th>wins</th>\n",
       "      <th>losses</th>\n",
       "      <th>ties</th>\n",
       "      <th>win%</th>\n",
       "    </tr>\n",
       "    <tr>\n",
       "      <th>Year</th>\n",
       "      <th>Player</th>\n",
       "      <th></th>\n",
       "      <th></th>\n",
       "      <th></th>\n",
       "      <th></th>\n",
       "      <th></th>\n",
       "      <th></th>\n",
       "      <th></th>\n",
       "      <th></th>\n",
       "      <th></th>\n",
       "      <th></th>\n",
       "      <th></th>\n",
       "      <th></th>\n",
       "      <th></th>\n",
       "      <th></th>\n",
       "      <th></th>\n",
       "      <th></th>\n",
       "      <th></th>\n",
       "      <th></th>\n",
       "      <th></th>\n",
       "      <th></th>\n",
       "      <th></th>\n",
       "    </tr>\n",
       "  </thead>\n",
       "  <tbody>\n",
       "    <tr>\n",
       "      <th rowspan=\"5\" valign=\"top\">2013</th>\n",
       "      <th>Peyton Manning</th>\n",
       "      <td>1</td>\n",
       "      <td>DEN</td>\n",
       "      <td>37</td>\n",
       "      <td>QB</td>\n",
       "      <td>16</td>\n",
       "      <td>16</td>\n",
       "      <td>13-3-0</td>\n",
       "      <td>450</td>\n",
       "      <td>659</td>\n",
       "      <td>68.3</td>\n",
       "      <td>...</td>\n",
       "      <td>1</td>\n",
       "      <td>NaN</td>\n",
       "      <td>NaN</td>\n",
       "      <td>NaN</td>\n",
       "      <td>AFC West</td>\n",
       "      <td>AFC</td>\n",
       "      <td>13</td>\n",
       "      <td>3</td>\n",
       "      <td>0</td>\n",
       "      <td>81.25</td>\n",
       "    </tr>\n",
       "    <tr>\n",
       "      <th>Matt Ryan</th>\n",
       "      <td>2</td>\n",
       "      <td>ATL</td>\n",
       "      <td>28</td>\n",
       "      <td>QB</td>\n",
       "      <td>16</td>\n",
       "      <td>16</td>\n",
       "      <td>4-12-0</td>\n",
       "      <td>439</td>\n",
       "      <td>651</td>\n",
       "      <td>67.4</td>\n",
       "      <td>...</td>\n",
       "      <td>0</td>\n",
       "      <td>17.0</td>\n",
       "      <td>55.0</td>\n",
       "      <td>0.0</td>\n",
       "      <td>NFC South</td>\n",
       "      <td>NFC</td>\n",
       "      <td>4</td>\n",
       "      <td>12</td>\n",
       "      <td>0</td>\n",
       "      <td>25.00</td>\n",
       "    </tr>\n",
       "    <tr>\n",
       "      <th>Drew Brees</th>\n",
       "      <td>3</td>\n",
       "      <td>NOR</td>\n",
       "      <td>34</td>\n",
       "      <td>QB</td>\n",
       "      <td>16</td>\n",
       "      <td>16</td>\n",
       "      <td>11-5-0</td>\n",
       "      <td>446</td>\n",
       "      <td>650</td>\n",
       "      <td>68.6</td>\n",
       "      <td>...</td>\n",
       "      <td>1</td>\n",
       "      <td>35.0</td>\n",
       "      <td>52.0</td>\n",
       "      <td>3.0</td>\n",
       "      <td>NFC South</td>\n",
       "      <td>NFC</td>\n",
       "      <td>11</td>\n",
       "      <td>5</td>\n",
       "      <td>0</td>\n",
       "      <td>68.75</td>\n",
       "    </tr>\n",
       "    <tr>\n",
       "      <th>Matthew Stafford</th>\n",
       "      <td>4</td>\n",
       "      <td>DET</td>\n",
       "      <td>25</td>\n",
       "      <td>QB</td>\n",
       "      <td>16</td>\n",
       "      <td>16</td>\n",
       "      <td>7-9-0</td>\n",
       "      <td>371</td>\n",
       "      <td>634</td>\n",
       "      <td>58.5</td>\n",
       "      <td>...</td>\n",
       "      <td>0</td>\n",
       "      <td>37.0</td>\n",
       "      <td>69.0</td>\n",
       "      <td>2.0</td>\n",
       "      <td>NFC North</td>\n",
       "      <td>NFC</td>\n",
       "      <td>7</td>\n",
       "      <td>9</td>\n",
       "      <td>0</td>\n",
       "      <td>43.75</td>\n",
       "    </tr>\n",
       "    <tr>\n",
       "      <th>Tom Brady</th>\n",
       "      <td>5</td>\n",
       "      <td>NWE</td>\n",
       "      <td>36</td>\n",
       "      <td>QB</td>\n",
       "      <td>16</td>\n",
       "      <td>16</td>\n",
       "      <td>12-4-0</td>\n",
       "      <td>380</td>\n",
       "      <td>628</td>\n",
       "      <td>60.5</td>\n",
       "      <td>...</td>\n",
       "      <td>1</td>\n",
       "      <td>32.0</td>\n",
       "      <td>18.0</td>\n",
       "      <td>0.0</td>\n",
       "      <td>AFC East</td>\n",
       "      <td>AFC</td>\n",
       "      <td>12</td>\n",
       "      <td>4</td>\n",
       "      <td>0</td>\n",
       "      <td>75.00</td>\n",
       "    </tr>\n",
       "  </tbody>\n",
       "</table>\n",
       "<p>5 rows × 39 columns</p>\n",
       "</div>"
      ],
      "text/plain": [
       "                       Rk   Tm  Age Pos   G  GS   QBrec  Cmp  Att  Cmp%  \\\n",
       "Year Player                                                               \n",
       "2013 Peyton Manning     1  DEN   37  QB  16  16  13-3-0  450  659  68.3   \n",
       "     Matt Ryan          2  ATL   28  QB  16  16  4-12-0  439  651  67.4   \n",
       "     Drew Brees         3  NOR   34  QB  16  16  11-5-0  446  650  68.6   \n",
       "     Matthew Stafford   4  DET   25  QB  16  16   7-9-0  371  634  58.5   \n",
       "     Tom Brady          5  NWE   36  QB  16  16  12-4-0  380  628  60.5   \n",
       "\n",
       "                       ...    Pro_Bowl  Rushing Att  Rushing Yds  Rushing TD  \\\n",
       "Year Player            ...                                                     \n",
       "2013 Peyton Manning    ...           1          NaN          NaN         NaN   \n",
       "     Matt Ryan         ...           0         17.0         55.0         0.0   \n",
       "     Drew Brees        ...           1         35.0         52.0         3.0   \n",
       "     Matthew Stafford  ...           0         37.0         69.0         2.0   \n",
       "     Tom Brady         ...           1         32.0         18.0         0.0   \n",
       "\n",
       "                        Division  Conference  wins  losses  ties   win%  \n",
       "Year Player                                                              \n",
       "2013 Peyton Manning     AFC West         AFC    13       3     0  81.25  \n",
       "     Matt Ryan         NFC South         NFC     4      12     0  25.00  \n",
       "     Drew Brees        NFC South         NFC    11       5     0  68.75  \n",
       "     Matthew Stafford  NFC North         NFC     7       9     0  43.75  \n",
       "     Tom Brady          AFC East         AFC    12       4     0  75.00  \n",
       "\n",
       "[5 rows x 39 columns]"
      ]
     },
     "execution_count": 23,
     "metadata": {},
     "output_type": "execute_result"
    }
   ],
   "source": [
    "qb.head()"
   ]
  },
  {
   "cell_type": "code",
   "execution_count": 24,
   "metadata": {
    "scrolled": true
   },
   "outputs": [
    {
     "name": "stdout",
     "output_type": "stream",
     "text": [
      "<class 'pandas.core.frame.DataFrame'>\n",
      "MultiIndex: 312 entries, (2013, Peyton Manning) to (2018, Teddy Bridgewater)\n",
      "Data columns (total 39 columns):\n",
      "Rk             312 non-null int64\n",
      "Tm             312 non-null object\n",
      "Age            312 non-null int64\n",
      "Pos            312 non-null object\n",
      "G              312 non-null int64\n",
      "GS             312 non-null int64\n",
      "QBrec          312 non-null object\n",
      "Cmp            312 non-null int64\n",
      "Att            312 non-null int64\n",
      "Cmp%           312 non-null float64\n",
      "Yds            312 non-null int64\n",
      "TD             312 non-null int64\n",
      "TD%            312 non-null float64\n",
      "Int            312 non-null int64\n",
      "Int%           312 non-null float64\n",
      "Lng            312 non-null int64\n",
      "Y/A            312 non-null float64\n",
      "AY/A           312 non-null float64\n",
      "Y/C            312 non-null float64\n",
      "Y/G            312 non-null float64\n",
      "Rate           312 non-null float64\n",
      "QBR            311 non-null float64\n",
      "Sk             312 non-null int64\n",
      "Yds2           312 non-null int64\n",
      "NY/A           312 non-null float64\n",
      "ANY/A          312 non-null float64\n",
      "Sk%            312 non-null float64\n",
      "4QC            214 non-null float64\n",
      "GWD            214 non-null float64\n",
      "Pro_Bowl       312 non-null int64\n",
      "Rushing Att    285 non-null float64\n",
      "Rushing Yds    285 non-null float64\n",
      "Rushing TD     285 non-null float64\n",
      "Division       312 non-null object\n",
      "Conference     312 non-null object\n",
      "wins           312 non-null int64\n",
      "losses         312 non-null int64\n",
      "ties           312 non-null int64\n",
      "win%           312 non-null float64\n",
      "dtypes: float64(18), int64(16), object(5)\n",
      "memory usage: 98.0+ KB\n"
     ]
    }
   ],
   "source": [
    "qb.info()"
   ]
  },
  {
   "cell_type": "code",
   "execution_count": 25,
   "metadata": {},
   "outputs": [],
   "source": [
    "qb.to_csv('Data/qb.csv')"
   ]
  },
  {
   "cell_type": "markdown",
   "metadata": {},
   "source": [
    "Now, we filled all of the NA values with zero as any value recorded as NaN in football is equivalent of a statistics not being recorded thus meaning it is zero. We also dropped the \"Rk\", \"Team\", \"Pos\", and \"QBrec\" variables as they are not useful to our analysis. "
   ]
  },
  {
   "cell_type": "code",
   "execution_count": 26,
   "metadata": {
    "scrolled": false
   },
   "outputs": [],
   "source": [
    "qb.fillna(0, inplace = True)"
   ]
  },
  {
   "cell_type": "code",
   "execution_count": 27,
   "metadata": {},
   "outputs": [],
   "source": [
    "qb_ready = qb.drop(['Rk', 'Tm', 'Pos', 'QBrec'], axis = 1)"
   ]
  },
  {
   "cell_type": "code",
   "execution_count": 28,
   "metadata": {
    "scrolled": true
   },
   "outputs": [
    {
     "data": {
      "text/html": [
       "<div>\n",
       "<style scoped>\n",
       "    .dataframe tbody tr th:only-of-type {\n",
       "        vertical-align: middle;\n",
       "    }\n",
       "\n",
       "    .dataframe tbody tr th {\n",
       "        vertical-align: top;\n",
       "    }\n",
       "\n",
       "    .dataframe thead th {\n",
       "        text-align: right;\n",
       "    }\n",
       "</style>\n",
       "<table border=\"1\" class=\"dataframe\">\n",
       "  <thead>\n",
       "    <tr style=\"text-align: right;\">\n",
       "      <th></th>\n",
       "      <th></th>\n",
       "      <th>Age</th>\n",
       "      <th>G</th>\n",
       "      <th>GS</th>\n",
       "      <th>Cmp</th>\n",
       "      <th>Att</th>\n",
       "      <th>Cmp%</th>\n",
       "      <th>Yds</th>\n",
       "      <th>TD</th>\n",
       "      <th>TD%</th>\n",
       "      <th>Int</th>\n",
       "      <th>...</th>\n",
       "      <th>Pro_Bowl</th>\n",
       "      <th>Rushing Att</th>\n",
       "      <th>Rushing Yds</th>\n",
       "      <th>Rushing TD</th>\n",
       "      <th>Division</th>\n",
       "      <th>Conference</th>\n",
       "      <th>wins</th>\n",
       "      <th>losses</th>\n",
       "      <th>ties</th>\n",
       "      <th>win%</th>\n",
       "    </tr>\n",
       "    <tr>\n",
       "      <th>Year</th>\n",
       "      <th>Player</th>\n",
       "      <th></th>\n",
       "      <th></th>\n",
       "      <th></th>\n",
       "      <th></th>\n",
       "      <th></th>\n",
       "      <th></th>\n",
       "      <th></th>\n",
       "      <th></th>\n",
       "      <th></th>\n",
       "      <th></th>\n",
       "      <th></th>\n",
       "      <th></th>\n",
       "      <th></th>\n",
       "      <th></th>\n",
       "      <th></th>\n",
       "      <th></th>\n",
       "      <th></th>\n",
       "      <th></th>\n",
       "      <th></th>\n",
       "      <th></th>\n",
       "      <th></th>\n",
       "    </tr>\n",
       "  </thead>\n",
       "  <tbody>\n",
       "    <tr>\n",
       "      <th rowspan=\"10\" valign=\"top\">2013</th>\n",
       "      <th>Peyton Manning</th>\n",
       "      <td>37</td>\n",
       "      <td>16</td>\n",
       "      <td>16</td>\n",
       "      <td>450</td>\n",
       "      <td>659</td>\n",
       "      <td>68.3</td>\n",
       "      <td>5477</td>\n",
       "      <td>55</td>\n",
       "      <td>8.3</td>\n",
       "      <td>10</td>\n",
       "      <td>...</td>\n",
       "      <td>1</td>\n",
       "      <td>0.0</td>\n",
       "      <td>0.0</td>\n",
       "      <td>0.0</td>\n",
       "      <td>AFC West</td>\n",
       "      <td>AFC</td>\n",
       "      <td>13</td>\n",
       "      <td>3</td>\n",
       "      <td>0</td>\n",
       "      <td>81.25</td>\n",
       "    </tr>\n",
       "    <tr>\n",
       "      <th>Matt Ryan</th>\n",
       "      <td>28</td>\n",
       "      <td>16</td>\n",
       "      <td>16</td>\n",
       "      <td>439</td>\n",
       "      <td>651</td>\n",
       "      <td>67.4</td>\n",
       "      <td>4515</td>\n",
       "      <td>26</td>\n",
       "      <td>4.0</td>\n",
       "      <td>17</td>\n",
       "      <td>...</td>\n",
       "      <td>0</td>\n",
       "      <td>17.0</td>\n",
       "      <td>55.0</td>\n",
       "      <td>0.0</td>\n",
       "      <td>NFC South</td>\n",
       "      <td>NFC</td>\n",
       "      <td>4</td>\n",
       "      <td>12</td>\n",
       "      <td>0</td>\n",
       "      <td>25.00</td>\n",
       "    </tr>\n",
       "    <tr>\n",
       "      <th>Drew Brees</th>\n",
       "      <td>34</td>\n",
       "      <td>16</td>\n",
       "      <td>16</td>\n",
       "      <td>446</td>\n",
       "      <td>650</td>\n",
       "      <td>68.6</td>\n",
       "      <td>5162</td>\n",
       "      <td>39</td>\n",
       "      <td>6.0</td>\n",
       "      <td>12</td>\n",
       "      <td>...</td>\n",
       "      <td>1</td>\n",
       "      <td>35.0</td>\n",
       "      <td>52.0</td>\n",
       "      <td>3.0</td>\n",
       "      <td>NFC South</td>\n",
       "      <td>NFC</td>\n",
       "      <td>11</td>\n",
       "      <td>5</td>\n",
       "      <td>0</td>\n",
       "      <td>68.75</td>\n",
       "    </tr>\n",
       "    <tr>\n",
       "      <th>Matthew Stafford</th>\n",
       "      <td>25</td>\n",
       "      <td>16</td>\n",
       "      <td>16</td>\n",
       "      <td>371</td>\n",
       "      <td>634</td>\n",
       "      <td>58.5</td>\n",
       "      <td>4650</td>\n",
       "      <td>29</td>\n",
       "      <td>4.6</td>\n",
       "      <td>19</td>\n",
       "      <td>...</td>\n",
       "      <td>0</td>\n",
       "      <td>37.0</td>\n",
       "      <td>69.0</td>\n",
       "      <td>2.0</td>\n",
       "      <td>NFC North</td>\n",
       "      <td>NFC</td>\n",
       "      <td>7</td>\n",
       "      <td>9</td>\n",
       "      <td>0</td>\n",
       "      <td>43.75</td>\n",
       "    </tr>\n",
       "    <tr>\n",
       "      <th>Tom Brady</th>\n",
       "      <td>36</td>\n",
       "      <td>16</td>\n",
       "      <td>16</td>\n",
       "      <td>380</td>\n",
       "      <td>628</td>\n",
       "      <td>60.5</td>\n",
       "      <td>4343</td>\n",
       "      <td>25</td>\n",
       "      <td>4.0</td>\n",
       "      <td>11</td>\n",
       "      <td>...</td>\n",
       "      <td>1</td>\n",
       "      <td>32.0</td>\n",
       "      <td>18.0</td>\n",
       "      <td>0.0</td>\n",
       "      <td>AFC East</td>\n",
       "      <td>AFC</td>\n",
       "      <td>12</td>\n",
       "      <td>4</td>\n",
       "      <td>0</td>\n",
       "      <td>75.00</td>\n",
       "    </tr>\n",
       "    <tr>\n",
       "      <th>Joe Flacco</th>\n",
       "      <td>28</td>\n",
       "      <td>16</td>\n",
       "      <td>16</td>\n",
       "      <td>362</td>\n",
       "      <td>614</td>\n",
       "      <td>59.0</td>\n",
       "      <td>3912</td>\n",
       "      <td>19</td>\n",
       "      <td>3.1</td>\n",
       "      <td>22</td>\n",
       "      <td>...</td>\n",
       "      <td>0</td>\n",
       "      <td>27.0</td>\n",
       "      <td>131.0</td>\n",
       "      <td>1.0</td>\n",
       "      <td>AFC North</td>\n",
       "      <td>AFC</td>\n",
       "      <td>8</td>\n",
       "      <td>8</td>\n",
       "      <td>0</td>\n",
       "      <td>50.00</td>\n",
       "    </tr>\n",
       "    <tr>\n",
       "      <th>Ryan Tannehill</th>\n",
       "      <td>25</td>\n",
       "      <td>16</td>\n",
       "      <td>16</td>\n",
       "      <td>355</td>\n",
       "      <td>588</td>\n",
       "      <td>60.4</td>\n",
       "      <td>3913</td>\n",
       "      <td>24</td>\n",
       "      <td>4.1</td>\n",
       "      <td>17</td>\n",
       "      <td>...</td>\n",
       "      <td>0</td>\n",
       "      <td>40.0</td>\n",
       "      <td>238.0</td>\n",
       "      <td>1.0</td>\n",
       "      <td>AFC East</td>\n",
       "      <td>AFC</td>\n",
       "      <td>8</td>\n",
       "      <td>8</td>\n",
       "      <td>0</td>\n",
       "      <td>50.00</td>\n",
       "    </tr>\n",
       "    <tr>\n",
       "      <th>Andy Dalton</th>\n",
       "      <td>26</td>\n",
       "      <td>16</td>\n",
       "      <td>16</td>\n",
       "      <td>363</td>\n",
       "      <td>586</td>\n",
       "      <td>61.9</td>\n",
       "      <td>4293</td>\n",
       "      <td>33</td>\n",
       "      <td>5.6</td>\n",
       "      <td>20</td>\n",
       "      <td>...</td>\n",
       "      <td>0</td>\n",
       "      <td>61.0</td>\n",
       "      <td>183.0</td>\n",
       "      <td>2.0</td>\n",
       "      <td>AFC North</td>\n",
       "      <td>AFC</td>\n",
       "      <td>11</td>\n",
       "      <td>5</td>\n",
       "      <td>0</td>\n",
       "      <td>68.75</td>\n",
       "    </tr>\n",
       "    <tr>\n",
       "      <th>Ben Roethlisberger</th>\n",
       "      <td>31</td>\n",
       "      <td>16</td>\n",
       "      <td>16</td>\n",
       "      <td>375</td>\n",
       "      <td>584</td>\n",
       "      <td>64.2</td>\n",
       "      <td>4261</td>\n",
       "      <td>28</td>\n",
       "      <td>4.8</td>\n",
       "      <td>14</td>\n",
       "      <td>...</td>\n",
       "      <td>0</td>\n",
       "      <td>27.0</td>\n",
       "      <td>99.0</td>\n",
       "      <td>1.0</td>\n",
       "      <td>AFC North</td>\n",
       "      <td>AFC</td>\n",
       "      <td>8</td>\n",
       "      <td>8</td>\n",
       "      <td>0</td>\n",
       "      <td>50.00</td>\n",
       "    </tr>\n",
       "    <tr>\n",
       "      <th>Carson Palmer</th>\n",
       "      <td>34</td>\n",
       "      <td>16</td>\n",
       "      <td>16</td>\n",
       "      <td>362</td>\n",
       "      <td>572</td>\n",
       "      <td>63.3</td>\n",
       "      <td>4274</td>\n",
       "      <td>24</td>\n",
       "      <td>4.2</td>\n",
       "      <td>22</td>\n",
       "      <td>...</td>\n",
       "      <td>0</td>\n",
       "      <td>27.0</td>\n",
       "      <td>3.0</td>\n",
       "      <td>0.0</td>\n",
       "      <td>NFC West</td>\n",
       "      <td>NFC</td>\n",
       "      <td>10</td>\n",
       "      <td>6</td>\n",
       "      <td>0</td>\n",
       "      <td>62.50</td>\n",
       "    </tr>\n",
       "  </tbody>\n",
       "</table>\n",
       "<p>10 rows × 35 columns</p>\n",
       "</div>"
      ],
      "text/plain": [
       "                         Age   G  GS  Cmp  Att  Cmp%   Yds  TD  TD%  Int  \\\n",
       "Year Player                                                                \n",
       "2013 Peyton Manning       37  16  16  450  659  68.3  5477  55  8.3   10   \n",
       "     Matt Ryan            28  16  16  439  651  67.4  4515  26  4.0   17   \n",
       "     Drew Brees           34  16  16  446  650  68.6  5162  39  6.0   12   \n",
       "     Matthew Stafford     25  16  16  371  634  58.5  4650  29  4.6   19   \n",
       "     Tom Brady            36  16  16  380  628  60.5  4343  25  4.0   11   \n",
       "     Joe Flacco           28  16  16  362  614  59.0  3912  19  3.1   22   \n",
       "     Ryan Tannehill       25  16  16  355  588  60.4  3913  24  4.1   17   \n",
       "     Andy Dalton          26  16  16  363  586  61.9  4293  33  5.6   20   \n",
       "     Ben Roethlisberger   31  16  16  375  584  64.2  4261  28  4.8   14   \n",
       "     Carson Palmer        34  16  16  362  572  63.3  4274  24  4.2   22   \n",
       "\n",
       "                         ...    Pro_Bowl  Rushing Att  Rushing Yds  \\\n",
       "Year Player              ...                                         \n",
       "2013 Peyton Manning      ...           1          0.0          0.0   \n",
       "     Matt Ryan           ...           0         17.0         55.0   \n",
       "     Drew Brees          ...           1         35.0         52.0   \n",
       "     Matthew Stafford    ...           0         37.0         69.0   \n",
       "     Tom Brady           ...           1         32.0         18.0   \n",
       "     Joe Flacco          ...           0         27.0        131.0   \n",
       "     Ryan Tannehill      ...           0         40.0        238.0   \n",
       "     Andy Dalton         ...           0         61.0        183.0   \n",
       "     Ben Roethlisberger  ...           0         27.0         99.0   \n",
       "     Carson Palmer       ...           0         27.0          3.0   \n",
       "\n",
       "                         Rushing TD   Division  Conference  wins  losses  \\\n",
       "Year Player                                                                \n",
       "2013 Peyton Manning             0.0   AFC West         AFC    13       3   \n",
       "     Matt Ryan                  0.0  NFC South         NFC     4      12   \n",
       "     Drew Brees                 3.0  NFC South         NFC    11       5   \n",
       "     Matthew Stafford           2.0  NFC North         NFC     7       9   \n",
       "     Tom Brady                  0.0   AFC East         AFC    12       4   \n",
       "     Joe Flacco                 1.0  AFC North         AFC     8       8   \n",
       "     Ryan Tannehill             1.0   AFC East         AFC     8       8   \n",
       "     Andy Dalton                2.0  AFC North         AFC    11       5   \n",
       "     Ben Roethlisberger         1.0  AFC North         AFC     8       8   \n",
       "     Carson Palmer              0.0   NFC West         NFC    10       6   \n",
       "\n",
       "                         ties   win%  \n",
       "Year Player                           \n",
       "2013 Peyton Manning         0  81.25  \n",
       "     Matt Ryan              0  25.00  \n",
       "     Drew Brees             0  68.75  \n",
       "     Matthew Stafford       0  43.75  \n",
       "     Tom Brady              0  75.00  \n",
       "     Joe Flacco             0  50.00  \n",
       "     Ryan Tannehill         0  50.00  \n",
       "     Andy Dalton            0  68.75  \n",
       "     Ben Roethlisberger     0  50.00  \n",
       "     Carson Palmer          0  62.50  \n",
       "\n",
       "[10 rows x 35 columns]"
      ]
     },
     "execution_count": 28,
     "metadata": {},
     "output_type": "execute_result"
    }
   ],
   "source": [
    "qb_ready.head(10)"
   ]
  },
  {
   "cell_type": "markdown",
   "metadata": {},
   "source": [
    "## Exploratory Data Analysis"
   ]
  },
  {
   "cell_type": "markdown",
   "metadata": {},
   "source": [
    "For our analysis, we decided to only include observations (quarterback seasons) where the player played at least 8 games as that constitutes half of the season. Players who played in less than half the season do not have sufficient data on the season to properly analyze their performance."
   ]
  },
  {
   "cell_type": "code",
   "execution_count": 29,
   "metadata": {
    "scrolled": true
   },
   "outputs": [
    {
     "name": "stdout",
     "output_type": "stream",
     "text": [
      "<class 'pandas.core.frame.DataFrame'>\n",
      "MultiIndex: 312 entries, (2013, Peyton Manning) to (2018, Teddy Bridgewater)\n",
      "Data columns (total 35 columns):\n",
      "Age            312 non-null int64\n",
      "G              312 non-null int64\n",
      "GS             312 non-null int64\n",
      "Cmp            312 non-null int64\n",
      "Att            312 non-null int64\n",
      "Cmp%           312 non-null float64\n",
      "Yds            312 non-null int64\n",
      "TD             312 non-null int64\n",
      "TD%            312 non-null float64\n",
      "Int            312 non-null int64\n",
      "Int%           312 non-null float64\n",
      "Lng            312 non-null int64\n",
      "Y/A            312 non-null float64\n",
      "AY/A           312 non-null float64\n",
      "Y/C            312 non-null float64\n",
      "Y/G            312 non-null float64\n",
      "Rate           312 non-null float64\n",
      "QBR            312 non-null float64\n",
      "Sk             312 non-null int64\n",
      "Yds2           312 non-null int64\n",
      "NY/A           312 non-null float64\n",
      "ANY/A          312 non-null float64\n",
      "Sk%            312 non-null float64\n",
      "4QC            312 non-null float64\n",
      "GWD            312 non-null float64\n",
      "Pro_Bowl       312 non-null int64\n",
      "Rushing Att    312 non-null float64\n",
      "Rushing Yds    312 non-null float64\n",
      "Rushing TD     312 non-null float64\n",
      "Division       312 non-null object\n",
      "Conference     312 non-null object\n",
      "wins           312 non-null int64\n",
      "losses         312 non-null int64\n",
      "ties           312 non-null int64\n",
      "win%           312 non-null float64\n",
      "dtypes: float64(18), int64(15), object(2)\n",
      "memory usage: 88.3+ KB\n"
     ]
    }
   ],
   "source": [
    "qb_ready.info()"
   ]
  },
  {
   "cell_type": "code",
   "execution_count": 75,
   "metadata": {
    "scrolled": false
   },
   "outputs": [
    {
     "data": {
      "text/html": [
       "<div>\n",
       "<style scoped>\n",
       "    .dataframe tbody tr th:only-of-type {\n",
       "        vertical-align: middle;\n",
       "    }\n",
       "\n",
       "    .dataframe tbody tr th {\n",
       "        vertical-align: top;\n",
       "    }\n",
       "\n",
       "    .dataframe thead th {\n",
       "        text-align: right;\n",
       "    }\n",
       "</style>\n",
       "<table border=\"1\" class=\"dataframe\">\n",
       "  <thead>\n",
       "    <tr style=\"text-align: right;\">\n",
       "      <th></th>\n",
       "      <th>Age</th>\n",
       "      <th>G</th>\n",
       "      <th>Cmp</th>\n",
       "      <th>Att</th>\n",
       "      <th>Cmp%</th>\n",
       "      <th>Yds</th>\n",
       "      <th>TD</th>\n",
       "      <th>TD%</th>\n",
       "      <th>Int</th>\n",
       "      <th>Int%</th>\n",
       "      <th>Y/A</th>\n",
       "      <th>Rate</th>\n",
       "    </tr>\n",
       "  </thead>\n",
       "  <tbody>\n",
       "    <tr>\n",
       "      <th>count</th>\n",
       "      <td>188.000000</td>\n",
       "      <td>188.000000</td>\n",
       "      <td>188.000000</td>\n",
       "      <td>188.000000</td>\n",
       "      <td>188.000000</td>\n",
       "      <td>188.000000</td>\n",
       "      <td>188.000000</td>\n",
       "      <td>188.000000</td>\n",
       "      <td>188.000000</td>\n",
       "      <td>188.000000</td>\n",
       "      <td>188.000000</td>\n",
       "      <td>188.000000</td>\n",
       "    </tr>\n",
       "    <tr>\n",
       "      <th>mean</th>\n",
       "      <td>29.037234</td>\n",
       "      <td>14.218085</td>\n",
       "      <td>306.159574</td>\n",
       "      <td>482.691489</td>\n",
       "      <td>63.129787</td>\n",
       "      <td>3511.420213</td>\n",
       "      <td>22.324468</td>\n",
       "      <td>4.535106</td>\n",
       "      <td>11.196809</td>\n",
       "      <td>2.375000</td>\n",
       "      <td>7.253191</td>\n",
       "      <td>90.161702</td>\n",
       "    </tr>\n",
       "    <tr>\n",
       "      <th>std</th>\n",
       "      <td>4.842293</td>\n",
       "      <td>2.427625</td>\n",
       "      <td>79.994492</td>\n",
       "      <td>114.460654</td>\n",
       "      <td>3.959658</td>\n",
       "      <td>920.910871</td>\n",
       "      <td>9.089927</td>\n",
       "      <td>1.322347</td>\n",
       "      <td>4.283857</td>\n",
       "      <td>0.873595</td>\n",
       "      <td>0.667857</td>\n",
       "      <td>11.135237</td>\n",
       "    </tr>\n",
       "    <tr>\n",
       "      <th>min</th>\n",
       "      <td>21.000000</td>\n",
       "      <td>8.000000</td>\n",
       "      <td>128.000000</td>\n",
       "      <td>195.000000</td>\n",
       "      <td>52.800000</td>\n",
       "      <td>1380.000000</td>\n",
       "      <td>6.000000</td>\n",
       "      <td>2.100000</td>\n",
       "      <td>2.000000</td>\n",
       "      <td>0.300000</td>\n",
       "      <td>5.500000</td>\n",
       "      <td>60.500000</td>\n",
       "    </tr>\n",
       "    <tr>\n",
       "      <th>25%</th>\n",
       "      <td>25.000000</td>\n",
       "      <td>13.000000</td>\n",
       "      <td>247.000000</td>\n",
       "      <td>403.000000</td>\n",
       "      <td>60.375000</td>\n",
       "      <td>2893.250000</td>\n",
       "      <td>15.750000</td>\n",
       "      <td>3.500000</td>\n",
       "      <td>8.000000</td>\n",
       "      <td>1.800000</td>\n",
       "      <td>6.800000</td>\n",
       "      <td>83.400000</td>\n",
       "    </tr>\n",
       "    <tr>\n",
       "      <th>50%</th>\n",
       "      <td>29.000000</td>\n",
       "      <td>15.000000</td>\n",
       "      <td>313.500000</td>\n",
       "      <td>499.500000</td>\n",
       "      <td>63.200000</td>\n",
       "      <td>3606.500000</td>\n",
       "      <td>21.500000</td>\n",
       "      <td>4.400000</td>\n",
       "      <td>11.000000</td>\n",
       "      <td>2.300000</td>\n",
       "      <td>7.200000</td>\n",
       "      <td>90.900000</td>\n",
       "    </tr>\n",
       "    <tr>\n",
       "      <th>75%</th>\n",
       "      <td>33.000000</td>\n",
       "      <td>16.000000</td>\n",
       "      <td>365.500000</td>\n",
       "      <td>573.500000</td>\n",
       "      <td>66.025000</td>\n",
       "      <td>4252.500000</td>\n",
       "      <td>29.000000</td>\n",
       "      <td>5.400000</td>\n",
       "      <td>14.000000</td>\n",
       "      <td>2.900000</td>\n",
       "      <td>7.700000</td>\n",
       "      <td>96.750000</td>\n",
       "    </tr>\n",
       "    <tr>\n",
       "      <th>max</th>\n",
       "      <td>41.000000</td>\n",
       "      <td>16.000000</td>\n",
       "      <td>471.000000</td>\n",
       "      <td>675.000000</td>\n",
       "      <td>74.400000</td>\n",
       "      <td>5477.000000</td>\n",
       "      <td>55.000000</td>\n",
       "      <td>8.600000</td>\n",
       "      <td>27.000000</td>\n",
       "      <td>5.100000</td>\n",
       "      <td>9.300000</td>\n",
       "      <td>119.200000</td>\n",
       "    </tr>\n",
       "  </tbody>\n",
       "</table>\n",
       "</div>"
      ],
      "text/plain": [
       "              Age           G         Cmp         Att        Cmp%  \\\n",
       "count  188.000000  188.000000  188.000000  188.000000  188.000000   \n",
       "mean    29.037234   14.218085  306.159574  482.691489   63.129787   \n",
       "std      4.842293    2.427625   79.994492  114.460654    3.959658   \n",
       "min     21.000000    8.000000  128.000000  195.000000   52.800000   \n",
       "25%     25.000000   13.000000  247.000000  403.000000   60.375000   \n",
       "50%     29.000000   15.000000  313.500000  499.500000   63.200000   \n",
       "75%     33.000000   16.000000  365.500000  573.500000   66.025000   \n",
       "max     41.000000   16.000000  471.000000  675.000000   74.400000   \n",
       "\n",
       "               Yds          TD         TD%         Int        Int%  \\\n",
       "count   188.000000  188.000000  188.000000  188.000000  188.000000   \n",
       "mean   3511.420213   22.324468    4.535106   11.196809    2.375000   \n",
       "std     920.910871    9.089927    1.322347    4.283857    0.873595   \n",
       "min    1380.000000    6.000000    2.100000    2.000000    0.300000   \n",
       "25%    2893.250000   15.750000    3.500000    8.000000    1.800000   \n",
       "50%    3606.500000   21.500000    4.400000   11.000000    2.300000   \n",
       "75%    4252.500000   29.000000    5.400000   14.000000    2.900000   \n",
       "max    5477.000000   55.000000    8.600000   27.000000    5.100000   \n",
       "\n",
       "              Y/A        Rate  \n",
       "count  188.000000  188.000000  \n",
       "mean     7.253191   90.161702  \n",
       "std      0.667857   11.135237  \n",
       "min      5.500000   60.500000  \n",
       "25%      6.800000   83.400000  \n",
       "50%      7.200000   90.900000  \n",
       "75%      7.700000   96.750000  \n",
       "max      9.300000  119.200000  "
      ]
     },
     "execution_count": 75,
     "metadata": {},
     "output_type": "execute_result"
    }
   ],
   "source": [
    "qb_ready[qb_ready.GS >= 8].describe()[['Age', 'G', 'Cmp', 'Att', 'Cmp%', 'Yds', 'TD',\n",
    "                                     'TD%', 'Int', 'Int%', 'Y/A', 'Rate']]"
   ]
  },
  {
   "cell_type": "markdown",
   "metadata": {},
   "source": [
    "Here, we were interested in seeing if there was a strong correlation between pass attempts and interceptions thrown. It can be seen that there is a positive association, but it is not very strong."
   ]
  },
  {
   "cell_type": "code",
   "execution_count": 69,
   "metadata": {
    "scrolled": true
   },
   "outputs": [
    {
     "data": {
      "image/png": "[encoded data removed]",
      "text/plain": [
       "<Figure size 360x360 with 1 Axes>"
      ]
     },
     "metadata": {},
     "output_type": "display_data"
    }
   ],
   "source": [
    "# Set style of scatterplot\n",
    "sns.set_context(\"notebook\", font_scale=1.1)\n",
    "sns.set_style(\"ticks\")\n",
    "\n",
    "# Create scatterplot of dataframe\n",
    "sns.lmplot('TD', \n",
    "           'Int', \n",
    "           data = qb_ready[qb_ready.GS >=8], \n",
    "           fit_reg=False) \n",
    "# Set title\n",
    "plt.title('Touchdowns vs. Int Thrown')\n",
    "\n",
    "# Set x-axis label\n",
    "plt.xlabel('Touchdowns')\n",
    "\n",
    "# Set y-axis label\n",
    "plt.ylabel('Interceptions Thrown')\n",
    "plt.show()"
   ]
  },
  {
   "cell_type": "markdown",
   "metadata": {},
   "source": [
    "We were also interested in seeing if a quarterback's age (and possibly maturity) factord into their completion percentage. However, there is a very low correlation here and the two do not seem to be related. Completion percentage has a lot more to do with team personnel, we hypothesize."
   ]
  },
  {
   "cell_type": "code",
   "execution_count": 71,
   "metadata": {
    "scrolled": true
   },
   "outputs": [
    {
     "data": {
      "image/png": "[encoded data removed]",
      "text/plain": [
       "<Figure size 360x360 with 1 Axes>"
      ]
     },
     "metadata": {},
     "output_type": "display_data"
    }
   ],
   "source": [
    "# Set style of scatterplot\n",
    "sns.set_context(\"notebook\", font_scale=1.1)\n",
    "sns.set_style(\"ticks\")\n",
    "\n",
    "# Create scatterplot of dataframe\n",
    "sns.lmplot('Rate', \n",
    "           'wins', \n",
    "           data = qb_ready[qb_ready.GS >=8], \n",
    "           fit_reg=False) \n",
    "# Set title\n",
    "plt.title('Passer Rating vs. Wins')\n",
    "\n",
    "# Set x-axis label\n",
    "plt.xlabel('Rate')\n",
    "\n",
    "# Set y-axis label\n",
    "plt.ylabel('Wins')\n",
    "plt.show()"
   ]
  },
  {
   "cell_type": "code",
   "execution_count": 34,
   "metadata": {},
   "outputs": [],
   "source": [
    "correlations = qb_ready.corr()"
   ]
  },
  {
   "cell_type": "code",
   "execution_count": 35,
   "metadata": {
    "scrolled": true
   },
   "outputs": [
    {
     "data": {
      "text/plain": [
       "<matplotlib.axes._subplots.AxesSubplot at 0x1129593d0>"
      ]
     },
     "execution_count": 35,
     "metadata": {},
     "output_type": "execute_result"
    },
    {
     "data": {
      "image/png": "[encoded data removed]",
      "text/plain": [
       "<Figure size 792x648 with 2 Axes>"
      ]
     },
     "metadata": {},
     "output_type": "display_data"
    }
   ],
   "source": [
    "mask = np.zeros_like(correlations, dtype = np.bool)\n",
    "mask[np.triu_indices_from(mask)]= True\n",
    "f, ax = plt.subplots(figsize=(11,9))\n",
    "cmap = sns.diverging_palette(220,10,as_cmap = True)\n",
    "sns.heatmap(correlations, mask = mask, cmap = cmap, vmax = .3, center = 0,\n",
    "           square = True, linewidths = .5, cbar_kws={\"shrink\":.5})"
   ]
  },
  {
   "cell_type": "markdown",
   "metadata": {},
   "source": [
    "This correlation matrix of the variables shows that we have a very large dimension space. We want to reduce this by using a dimensionality reduction algorithm to find more meaningful results in our data. Our dataset is relatively small, and we have a large number of variables so we want to tackle the curse of dimensionality without losing any of the information present in our data. We can see that almost all of the variables are at least slightly correlated with the rest (most with correlations of > 0.2). We can see that Int% and Sk% are negatively correlated with the rest of the variables, which makes sense because those 2 are indicators of bad performance while high values of the other variables are generally good performance indicators.\n",
    "\n",
    "To better understand our data, visualize it, and derive meaning out of it, we decide to use PCA.\n",
    "\n",
    "PCA works by converting our feature space (of correlated variables) through a set of orthogonal transformations into a set of linearly uncorrelated variables (principal components). We are not losing any information in the data, which would happen if we were doing feature selection (methods such as best subset, forward/backwards stepwise), but just compressing our data into a smaller, easier-to-understand format."
   ]
  },
  {
   "cell_type": "markdown",
   "metadata": {},
   "source": [
    "## Prep data from Sci-Kit Learn Implementation"
   ]
  },
  {
   "cell_type": "code",
   "execution_count": 36,
   "metadata": {
    "scrolled": false
   },
   "outputs": [
    {
     "name": "stdout",
     "output_type": "stream",
     "text": [
      "<class 'pandas.core.frame.DataFrame'>\n",
      "MultiIndex: 188 entries, (2013, Peyton Manning) to (2018, Ryan Tannehill)\n",
      "Data columns (total 32 columns):\n",
      "Age            188 non-null int64\n",
      "G              188 non-null int64\n",
      "GS             188 non-null int64\n",
      "Cmp            188 non-null int64\n",
      "Att            188 non-null int64\n",
      "Cmp%           188 non-null float64\n",
      "Yds            188 non-null int64\n",
      "TD             188 non-null int64\n",
      "TD%            188 non-null float64\n",
      "Int            188 non-null int64\n",
      "Int%           188 non-null float64\n",
      "Lng            188 non-null int64\n",
      "Y/A            188 non-null float64\n",
      "AY/A           188 non-null float64\n",
      "Y/C            188 non-null float64\n",
      "Y/G            188 non-null float64\n",
      "Rate           188 non-null float64\n",
      "QBR            188 non-null float64\n",
      "Sk             188 non-null int64\n",
      "Yds2           188 non-null int64\n",
      "NY/A           188 non-null float64\n",
      "ANY/A          188 non-null float64\n",
      "Sk%            188 non-null float64\n",
      "4QC            188 non-null float64\n",
      "GWD            188 non-null float64\n",
      "Rushing Att    188 non-null float64\n",
      "Rushing Yds    188 non-null float64\n",
      "Rushing TD     188 non-null float64\n",
      "wins           188 non-null int64\n",
      "losses         188 non-null int64\n",
      "ties           188 non-null int64\n",
      "win%           188 non-null float64\n",
      "dtypes: float64(18), int64(14)\n",
      "memory usage: 49.6+ KB\n"
     ]
    }
   ],
   "source": [
    "data2 = qb_ready.drop(['Pro_Bowl', 'Division', 'Conference'], axis = 1)\n",
    "data2 = data2[data2.GS >= 8]\n",
    "data2.info()"
   ]
  },
  {
   "cell_type": "markdown",
   "metadata": {},
   "source": [
    "### Implementing PCA and K-Means"
   ]
  },
  {
   "cell_type": "markdown",
   "metadata": {},
   "source": [
    "#### PCA Dimension Determination"
   ]
  },
  {
   "cell_type": "code",
   "execution_count": 37,
   "metadata": {},
   "outputs": [],
   "source": [
    "qb_stan=StandardScaler().fit_transform(data2)"
   ]
  },
  {
   "cell_type": "code",
   "execution_count": 38,
   "metadata": {
    "scrolled": true
   },
   "outputs": [
    {
     "data": {
      "image/png": "[encoded data removed]",
      "text/plain": [
       "<Figure size 432x288 with 1 Axes>"
      ]
     },
     "metadata": {},
     "output_type": "display_data"
    }
   ],
   "source": [
    "pca_fit = PCA().fit(qb_stan)\n",
    "plt.plot(np.cumsum(pca_fit.explained_variance_ratio_))\n",
    "plt.xlabel('# of Components')\n",
    "plt.ylabel('Cumulative Explained Variance')\n",
    "plt.show()"
   ]
  },
  {
   "cell_type": "markdown",
   "metadata": {},
   "source": [
    "### K-Means Optimal Cluster determination"
   ]
  },
  {
   "cell_type": "markdown",
   "metadata": {},
   "source": [
    "Based on the cumulative explained variance plot above, we decide to use 10 principal components, as 10 PC's captures nearly all of the variance. We do not want to lose any valuable information, but using more PC's would just be redundant as the increase in explained variance dies off quickly after 10 PC's."
   ]
  },
  {
   "cell_type": "code",
   "execution_count": 39,
   "metadata": {},
   "outputs": [],
   "source": [
    "pca = PCA(n_components = 10)\n",
    "x_10d = pca.fit_transform(qb_stan)"
   ]
  },
  {
   "cell_type": "code",
   "execution_count": 40,
   "metadata": {},
   "outputs": [
    {
     "data": {
      "text/plain": [
       "array([0.36737564, 0.15844298, 0.12122172, 0.06932914, 0.05360092,\n",
       "       0.04299523, 0.03611627, 0.02767796, 0.02653432, 0.02165097])"
      ]
     },
     "execution_count": 40,
     "metadata": {},
     "output_type": "execute_result"
    }
   ],
   "source": [
    "pca.explained_variance_ratio_"
   ]
  },
  {
   "cell_type": "markdown",
   "metadata": {},
   "source": [
    "Above, the explained variance percentage for each principal component is extracted. When we visualize using 2 dimensions, we are using the first 2 principal components, which explain 36.61% and 16.47% of the total variance in the data, respectively."
   ]
  },
  {
   "cell_type": "code",
   "execution_count": 41,
   "metadata": {},
   "outputs": [],
   "source": [
    "clusters = {}\n",
    "for i in range(2,8):\n",
    "    kmeans = KMeans(n_clusters = i)\n",
    "    kmeans.fit(x_10d)\n",
    "    clusters[i] = kmeans.labels_"
   ]
  },
  {
   "cell_type": "code",
   "execution_count": 76,
   "metadata": {
    "scrolled": false
   },
   "outputs": [
    {
     "data": {
      "image/png": "[encoded data removed]",
      "text/plain": [
       "<Figure size 432x288 with 1 Axes>"
      ]
     },
     "metadata": {},
     "output_type": "display_data"
    },
    {
     "data": {
      "image/png": "[encoded data removed]",
      "text/plain": [
       "<Figure size 432x288 with 1 Axes>"
      ]
     },
     "metadata": {},
     "output_type": "display_data"
    },
    {
     "data": {
      "image/png": "[encoded data removed]",
      "text/plain": [
       "<Figure size 432x288 with 1 Axes>"
      ]
     },
     "metadata": {},
     "output_type": "display_data"
    },
    {
     "data": {
      "image/png": "[encoded data removed]",
      "text/plain": [
       "<Figure size 432x288 with 1 Axes>"
      ]
     },
     "metadata": {},
     "output_type": "display_data"
    },
    {
     "data": {
      "image/png": "[encoded data removed]",
      "text/plain": [
       "<Figure size 432x288 with 1 Axes>"
      ]
     },
     "metadata": {},
     "output_type": "display_data"
    },
    {
     "data": {
      "image/png": "[encoded data removed]",
      "text/plain": [
       "<Figure size 432x288 with 1 Axes>"
      ]
     },
     "metadata": {},
     "output_type": "display_data"
    }
   ],
   "source": [
    "for i in range(2,8):\n",
    "    plt.scatter(x_10d[:,0], x_10d[:,1], alpha = 1, c = clusters[i], cmap = plt.get_cmap('viridis', i))\n",
    "    plt.xlabel('Component 1 (36.6% of Variance)')\n",
    "    plt.ylabel('Component 2 (16.47% of Variance)')\n",
    "    plt.title('{} Clusters'.format(i))\n",
    "    plt.show()"
   ]
  },
  {
   "cell_type": "markdown",
   "metadata": {},
   "source": [
    "Based on the plots with 2 through 7 clusters, we decide to use 3 clusters for our analysis. Starting at 4 clusters, the groups begin to overlap and this is not desirable. We would like to have as many clusters as possible that are separated, and the value here for k is 3."
   ]
  },
  {
   "cell_type": "markdown",
   "metadata": {},
   "source": [
    "### Implementing K-Means algorithm with 3 clusters"
   ]
  },
  {
   "cell_type": "code",
   "execution_count": 43,
   "metadata": {
    "scrolled": false
   },
   "outputs": [
    {
     "data": {
      "image/png": "[encoded data removed]",
      "text/plain": [
       "<Figure size 504x504 with 1 Axes>"
      ]
     },
     "metadata": {},
     "output_type": "display_data"
    }
   ],
   "source": [
    "#use 10 components, explains almost all of the variance\n",
    "pca = PCA(n_components = 10)\n",
    "x_10d = pca.fit_transform(qb_stan)\n",
    "kmeans = KMeans(n_clusters = 3, random_state = 123)\n",
    "X_clustered = kmeans.fit_predict(x_10d)\n",
    "colors = {0: 'r', 1:'g', 2:'b'}\n",
    "labelColor = [colors[i] for i in X_clustered]\n",
    "plt.figure(figsize = (7,7))\n",
    "plt.scatter(x_10d[:,0], x_10d[:,1], c = labelColor, alpha = 0.8)\n",
    "plt.xlabel('Component 1 (36.6% of Variance)')\n",
    "plt.ylabel('Component 2 (16.47% of Variance)')\n",
    "plt.show()"
   ]
  },
  {
   "cell_type": "markdown",
   "metadata": {},
   "source": [
    "### Full Dataset with Labels and Principal Components\n",
    "\n",
    "#### Creating a new complete data frame \n",
    "This new dataframe called full_data essentially has the original data including all of the variables while appending the respective principal components and cluster assignment to each respective observation."
   ]
  },
  {
   "cell_type": "code",
   "execution_count": 44,
   "metadata": {},
   "outputs": [
    {
     "data": {
      "text/html": [
       "<div>\n",
       "<style scoped>\n",
       "    .dataframe tbody tr th:only-of-type {\n",
       "        vertical-align: middle;\n",
       "    }\n",
       "\n",
       "    .dataframe tbody tr th {\n",
       "        vertical-align: top;\n",
       "    }\n",
       "\n",
       "    .dataframe thead th {\n",
       "        text-align: right;\n",
       "    }\n",
       "</style>\n",
       "<table border=\"1\" class=\"dataframe\">\n",
       "  <thead>\n",
       "    <tr style=\"text-align: right;\">\n",
       "      <th></th>\n",
       "      <th>Year</th>\n",
       "      <th>Player</th>\n",
       "      <th>Age</th>\n",
       "      <th>G</th>\n",
       "      <th>GS</th>\n",
       "      <th>Cmp</th>\n",
       "      <th>Att</th>\n",
       "      <th>Cmp%</th>\n",
       "      <th>Yds</th>\n",
       "      <th>TD</th>\n",
       "      <th>...</th>\n",
       "      <th>1</th>\n",
       "      <th>2</th>\n",
       "      <th>3</th>\n",
       "      <th>4</th>\n",
       "      <th>5</th>\n",
       "      <th>6</th>\n",
       "      <th>7</th>\n",
       "      <th>8</th>\n",
       "      <th>9</th>\n",
       "      <th>Label</th>\n",
       "    </tr>\n",
       "  </thead>\n",
       "  <tbody>\n",
       "    <tr>\n",
       "      <th>0</th>\n",
       "      <td>2013</td>\n",
       "      <td>Peyton Manning</td>\n",
       "      <td>37</td>\n",
       "      <td>16</td>\n",
       "      <td>16</td>\n",
       "      <td>450</td>\n",
       "      <td>659</td>\n",
       "      <td>68.3</td>\n",
       "      <td>5477</td>\n",
       "      <td>55</td>\n",
       "      <td>...</td>\n",
       "      <td>2.286329</td>\n",
       "      <td>-2.403122</td>\n",
       "      <td>-0.212213</td>\n",
       "      <td>-0.620901</td>\n",
       "      <td>-0.948989</td>\n",
       "      <td>-0.863630</td>\n",
       "      <td>0.528627</td>\n",
       "      <td>0.041962</td>\n",
       "      <td>0.418523</td>\n",
       "      <td>B</td>\n",
       "    </tr>\n",
       "    <tr>\n",
       "      <th>1</th>\n",
       "      <td>2013</td>\n",
       "      <td>Matt Ryan</td>\n",
       "      <td>28</td>\n",
       "      <td>16</td>\n",
       "      <td>16</td>\n",
       "      <td>439</td>\n",
       "      <td>651</td>\n",
       "      <td>67.4</td>\n",
       "      <td>4515</td>\n",
       "      <td>26</td>\n",
       "      <td>...</td>\n",
       "      <td>-3.240417</td>\n",
       "      <td>-2.956096</td>\n",
       "      <td>-2.333678</td>\n",
       "      <td>-0.858588</td>\n",
       "      <td>-0.077854</td>\n",
       "      <td>-0.206360</td>\n",
       "      <td>-0.437583</td>\n",
       "      <td>-0.447490</td>\n",
       "      <td>-1.216581</td>\n",
       "      <td>C</td>\n",
       "    </tr>\n",
       "    <tr>\n",
       "      <th>2</th>\n",
       "      <td>2013</td>\n",
       "      <td>Drew Brees</td>\n",
       "      <td>34</td>\n",
       "      <td>16</td>\n",
       "      <td>16</td>\n",
       "      <td>446</td>\n",
       "      <td>650</td>\n",
       "      <td>68.6</td>\n",
       "      <td>5162</td>\n",
       "      <td>39</td>\n",
       "      <td>...</td>\n",
       "      <td>-0.664288</td>\n",
       "      <td>-0.903726</td>\n",
       "      <td>-0.772148</td>\n",
       "      <td>-0.163440</td>\n",
       "      <td>-0.416082</td>\n",
       "      <td>-0.259219</td>\n",
       "      <td>0.700605</td>\n",
       "      <td>0.030929</td>\n",
       "      <td>-0.743442</td>\n",
       "      <td>B</td>\n",
       "    </tr>\n",
       "    <tr>\n",
       "      <th>3</th>\n",
       "      <td>2013</td>\n",
       "      <td>Matthew Stafford</td>\n",
       "      <td>25</td>\n",
       "      <td>16</td>\n",
       "      <td>16</td>\n",
       "      <td>371</td>\n",
       "      <td>634</td>\n",
       "      <td>58.5</td>\n",
       "      <td>4650</td>\n",
       "      <td>29</td>\n",
       "      <td>...</td>\n",
       "      <td>-1.456205</td>\n",
       "      <td>-2.234784</td>\n",
       "      <td>1.966175</td>\n",
       "      <td>-2.472519</td>\n",
       "      <td>-0.059769</td>\n",
       "      <td>0.340822</td>\n",
       "      <td>-1.331402</td>\n",
       "      <td>-0.026445</td>\n",
       "      <td>0.672950</td>\n",
       "      <td>C</td>\n",
       "    </tr>\n",
       "    <tr>\n",
       "      <th>4</th>\n",
       "      <td>2013</td>\n",
       "      <td>Tom Brady</td>\n",
       "      <td>36</td>\n",
       "      <td>16</td>\n",
       "      <td>16</td>\n",
       "      <td>380</td>\n",
       "      <td>628</td>\n",
       "      <td>60.5</td>\n",
       "      <td>4343</td>\n",
       "      <td>25</td>\n",
       "      <td>...</td>\n",
       "      <td>-1.670703</td>\n",
       "      <td>-1.042164</td>\n",
       "      <td>1.365477</td>\n",
       "      <td>2.438996</td>\n",
       "      <td>1.572078</td>\n",
       "      <td>-0.781240</td>\n",
       "      <td>-0.321322</td>\n",
       "      <td>1.640375</td>\n",
       "      <td>0.634728</td>\n",
       "      <td>C</td>\n",
       "    </tr>\n",
       "  </tbody>\n",
       "</table>\n",
       "<p>5 rows × 45 columns</p>\n",
       "</div>"
      ],
      "text/plain": [
       "   Year            Player  Age   G  GS  Cmp  Att  Cmp%   Yds  TD  ...    \\\n",
       "0  2013    Peyton Manning   37  16  16  450  659  68.3  5477  55  ...     \n",
       "1  2013         Matt Ryan   28  16  16  439  651  67.4  4515  26  ...     \n",
       "2  2013        Drew Brees   34  16  16  446  650  68.6  5162  39  ...     \n",
       "3  2013  Matthew Stafford   25  16  16  371  634  58.5  4650  29  ...     \n",
       "4  2013         Tom Brady   36  16  16  380  628  60.5  4343  25  ...     \n",
       "\n",
       "          1         2         3         4         5         6         7  \\\n",
       "0  2.286329 -2.403122 -0.212213 -0.620901 -0.948989 -0.863630  0.528627   \n",
       "1 -3.240417 -2.956096 -2.333678 -0.858588 -0.077854 -0.206360 -0.437583   \n",
       "2 -0.664288 -0.903726 -0.772148 -0.163440 -0.416082 -0.259219  0.700605   \n",
       "3 -1.456205 -2.234784  1.966175 -2.472519 -0.059769  0.340822 -1.331402   \n",
       "4 -1.670703 -1.042164  1.365477  2.438996  1.572078 -0.781240 -0.321322   \n",
       "\n",
       "          8         9  Label  \n",
       "0  0.041962  0.418523      B  \n",
       "1 -0.447490 -1.216581      C  \n",
       "2  0.030929 -0.743442      B  \n",
       "3 -0.026445  0.672950      C  \n",
       "4  1.640375  0.634728      C  \n",
       "\n",
       "[5 rows x 45 columns]"
      ]
     },
     "execution_count": 44,
     "metadata": {},
     "output_type": "execute_result"
    }
   ],
   "source": [
    "full_data = pd.DataFrame(x_10d)\n",
    "full_data.index = data2.index\n",
    "full_data = pd.concat([data2, full_data], axis = 1)\n",
    "full_data.index = data2.index\n",
    "full_data = full_data.reset_index()\n",
    "full_data['Label'] = kmeans.labels_\n",
    "full_data.Label = full_data.Label.replace([0,1,2], ['A', 'B', 'C'])\n",
    "full_data.Label = full_data.Label.astype('category')\n",
    "\n",
    "full_data.head()"
   ]
  },
  {
   "cell_type": "code",
   "execution_count": 45,
   "metadata": {
    "scrolled": true
   },
   "outputs": [
    {
     "name": "stdout",
     "output_type": "stream",
     "text": [
      "<class 'pandas.core.frame.DataFrame'>\n",
      "RangeIndex: 188 entries, 0 to 187\n",
      "Data columns (total 45 columns):\n",
      "Year           188 non-null int64\n",
      "Player         188 non-null object\n",
      "Age            188 non-null int64\n",
      "G              188 non-null int64\n",
      "GS             188 non-null int64\n",
      "Cmp            188 non-null int64\n",
      "Att            188 non-null int64\n",
      "Cmp%           188 non-null float64\n",
      "Yds            188 non-null int64\n",
      "TD             188 non-null int64\n",
      "TD%            188 non-null float64\n",
      "Int            188 non-null int64\n",
      "Int%           188 non-null float64\n",
      "Lng            188 non-null int64\n",
      "Y/A            188 non-null float64\n",
      "AY/A           188 non-null float64\n",
      "Y/C            188 non-null float64\n",
      "Y/G            188 non-null float64\n",
      "Rate           188 non-null float64\n",
      "QBR            188 non-null float64\n",
      "Sk             188 non-null int64\n",
      "Yds2           188 non-null int64\n",
      "NY/A           188 non-null float64\n",
      "ANY/A          188 non-null float64\n",
      "Sk%            188 non-null float64\n",
      "4QC            188 non-null float64\n",
      "GWD            188 non-null float64\n",
      "Rushing Att    188 non-null float64\n",
      "Rushing Yds    188 non-null float64\n",
      "Rushing TD     188 non-null float64\n",
      "wins           188 non-null int64\n",
      "losses         188 non-null int64\n",
      "ties           188 non-null int64\n",
      "win%           188 non-null float64\n",
      "0              188 non-null float64\n",
      "1              188 non-null float64\n",
      "2              188 non-null float64\n",
      "3              188 non-null float64\n",
      "4              188 non-null float64\n",
      "5              188 non-null float64\n",
      "6              188 non-null float64\n",
      "7              188 non-null float64\n",
      "8              188 non-null float64\n",
      "9              188 non-null float64\n",
      "Label          188 non-null category\n",
      "dtypes: category(1), float64(28), int64(15), object(1)\n",
      "memory usage: 65.0+ KB\n"
     ]
    }
   ],
   "source": [
    "full_data.info()"
   ]
  },
  {
   "cell_type": "markdown",
   "metadata": {},
   "source": [
    "### Results of Clustering"
   ]
  },
  {
   "cell_type": "markdown",
   "metadata": {},
   "source": [
    "Here, we summarize the clustering results by giving summary statistics for each of the 3 clusters. Based on these summary statistics and the interactive plot that we have attached, we can see that cluster C is composed of mainly \"elite\" quarterbacks, cluster A is composed of mainly game managers/above-average quarterbacks, and cluster B is composed of \"scrub\" or below-average quarterbacks. Keep in mind that each individual point is a quarterback from a particular season (2013-2017) and not a quarterback's past 5 years aggregated."
   ]
  },
  {
   "cell_type": "code",
   "execution_count": 46,
   "metadata": {
    "scrolled": false
   },
   "outputs": [
    {
     "data": {
      "text/plain": [
       "Label\n",
       "A    49\n",
       "B    51\n",
       "C    88\n",
       "Name: Player, dtype: int64"
      ]
     },
     "execution_count": 46,
     "metadata": {},
     "output_type": "execute_result"
    }
   ],
   "source": [
    "full_data.groupby('Label').Player.count()"
   ]
  },
  {
   "cell_type": "code",
   "execution_count": 47,
   "metadata": {},
   "outputs": [],
   "source": [
    "def label_fix(data):\n",
    "    if data.Label == 'A':\n",
    "        return 'Scrub'\n",
    "    elif data.Label == 'B':\n",
    "        return 'Elite'\n",
    "    else:\n",
    "        return 'Middle'"
   ]
  },
  {
   "cell_type": "code",
   "execution_count": 48,
   "metadata": {},
   "outputs": [],
   "source": [
    "full_data.Label = full_data.apply(label_fix, axis = 1)"
   ]
  },
  {
   "cell_type": "code",
   "execution_count": 49,
   "metadata": {},
   "outputs": [],
   "source": [
    "basic_stats = full_data[['Player', 'Age', 'G', 'GS', 'Label']]\n",
    "\n",
    "baseline_stats = full_data[['Player','Cmp', 'Att', 'Yds', 'TD', 'Int', 'Y/G', 'Sk', '4QC', 'GWD', 'Label', 'Rate', 'QBR']]\n",
    "\n",
    "calculated_stats = full_data[['Player', 'Cmp%', 'TD%', 'Int%', 'Y/A', 'AY/A', 'Y/C', 'Label']]\n",
    "\n",
    "rushing_stats = full_data[['Player', 'Rushing Att', 'Rushing Yds', 'Rushing TD', 'Label']]\n",
    "\n",
    "record_stats = full_data[['Player', 'wins', 'losses', 'ties', 'win%', 'Label']]"
   ]
  },
  {
   "cell_type": "code",
   "execution_count": 50,
   "metadata": {
    "scrolled": true
   },
   "outputs": [
    {
     "data": {
      "text/html": [
       "<div>\n",
       "<style scoped>\n",
       "    .dataframe tbody tr th:only-of-type {\n",
       "        vertical-align: middle;\n",
       "    }\n",
       "\n",
       "    .dataframe tbody tr th {\n",
       "        vertical-align: top;\n",
       "    }\n",
       "\n",
       "    .dataframe thead th {\n",
       "        text-align: right;\n",
       "    }\n",
       "</style>\n",
       "<table border=\"1\" class=\"dataframe\">\n",
       "  <thead>\n",
       "    <tr style=\"text-align: right;\">\n",
       "      <th></th>\n",
       "      <th>Cmp</th>\n",
       "      <th>Att</th>\n",
       "      <th>Yds</th>\n",
       "      <th>TD</th>\n",
       "      <th>Int</th>\n",
       "      <th>Y/G</th>\n",
       "      <th>Sk</th>\n",
       "      <th>4QC</th>\n",
       "      <th>GWD</th>\n",
       "      <th>Rate</th>\n",
       "      <th>QBR</th>\n",
       "    </tr>\n",
       "    <tr>\n",
       "      <th>Label</th>\n",
       "      <th></th>\n",
       "      <th></th>\n",
       "      <th></th>\n",
       "      <th></th>\n",
       "      <th></th>\n",
       "      <th></th>\n",
       "      <th></th>\n",
       "      <th></th>\n",
       "      <th></th>\n",
       "      <th></th>\n",
       "      <th></th>\n",
       "    </tr>\n",
       "  </thead>\n",
       "  <tbody>\n",
       "    <tr>\n",
       "      <th>Elite</th>\n",
       "      <td>353.57</td>\n",
       "      <td>531.90</td>\n",
       "      <td>4219.84</td>\n",
       "      <td>31.35</td>\n",
       "      <td>9.67</td>\n",
       "      <td>277.47</td>\n",
       "      <td>27.61</td>\n",
       "      <td>2.10</td>\n",
       "      <td>2.67</td>\n",
       "      <td>102.93</td>\n",
       "      <td>70.31</td>\n",
       "    </tr>\n",
       "    <tr>\n",
       "      <th>Middle</th>\n",
       "      <td>335.99</td>\n",
       "      <td>534.07</td>\n",
       "      <td>3775.97</td>\n",
       "      <td>22.83</td>\n",
       "      <td>12.52</td>\n",
       "      <td>244.12</td>\n",
       "      <td>37.25</td>\n",
       "      <td>2.07</td>\n",
       "      <td>2.60</td>\n",
       "      <td>88.48</td>\n",
       "      <td>55.15</td>\n",
       "    </tr>\n",
       "    <tr>\n",
       "      <th>Scrub</th>\n",
       "      <td>203.24</td>\n",
       "      <td>339.20</td>\n",
       "      <td>2298.98</td>\n",
       "      <td>12.02</td>\n",
       "      <td>10.41</td>\n",
       "      <td>211.55</td>\n",
       "      <td>25.80</td>\n",
       "      <td>1.04</td>\n",
       "      <td>1.29</td>\n",
       "      <td>79.89</td>\n",
       "      <td>45.91</td>\n",
       "    </tr>\n",
       "  </tbody>\n",
       "</table>\n",
       "</div>"
      ],
      "text/plain": [
       "           Cmp     Att      Yds     TD    Int     Y/G     Sk   4QC   GWD  \\\n",
       "Label                                                                      \n",
       "Elite   353.57  531.90  4219.84  31.35   9.67  277.47  27.61  2.10  2.67   \n",
       "Middle  335.99  534.07  3775.97  22.83  12.52  244.12  37.25  2.07  2.60   \n",
       "Scrub   203.24  339.20  2298.98  12.02  10.41  211.55  25.80  1.04  1.29   \n",
       "\n",
       "          Rate    QBR  \n",
       "Label                  \n",
       "Elite   102.93  70.31  \n",
       "Middle   88.48  55.15  \n",
       "Scrub    79.89  45.91  "
      ]
     },
     "execution_count": 50,
     "metadata": {},
     "output_type": "execute_result"
    }
   ],
   "source": [
    "baseline_stats.groupby('Label').mean().round(2)"
   ]
  },
  {
   "cell_type": "markdown",
   "metadata": {},
   "source": [
    "This confirms what we said in the introduction, where we said that a \"great\" or \"elite\" quarterback usually has around 30 TDs and 10 Ints, with approximately 4000 passing yards on the season. These values are in line with our mean values for cluster C. In addition, the mean Passer Rating (Rate) for Cluster C is 102.43, which is very high, and the mean Rate for the \"average\" cluster is 87.41, which is in line with the 2017 QBs, where the average rate was 88.6."
   ]
  },
  {
   "cell_type": "code",
   "execution_count": 51,
   "metadata": {
    "scrolled": true
   },
   "outputs": [
    {
     "data": {
      "text/html": [
       "<div>\n",
       "<style scoped>\n",
       "    .dataframe tbody tr th:only-of-type {\n",
       "        vertical-align: middle;\n",
       "    }\n",
       "\n",
       "    .dataframe tbody tr th {\n",
       "        vertical-align: top;\n",
       "    }\n",
       "\n",
       "    .dataframe thead th {\n",
       "        text-align: right;\n",
       "    }\n",
       "</style>\n",
       "<table border=\"1\" class=\"dataframe\">\n",
       "  <thead>\n",
       "    <tr style=\"text-align: right;\">\n",
       "      <th></th>\n",
       "      <th>Cmp%</th>\n",
       "      <th>TD%</th>\n",
       "      <th>Int%</th>\n",
       "      <th>Y/A</th>\n",
       "      <th>AY/A</th>\n",
       "      <th>Y/C</th>\n",
       "    </tr>\n",
       "    <tr>\n",
       "      <th>Label</th>\n",
       "      <th></th>\n",
       "      <th></th>\n",
       "      <th></th>\n",
       "      <th></th>\n",
       "      <th></th>\n",
       "      <th></th>\n",
       "    </tr>\n",
       "  </thead>\n",
       "  <tbody>\n",
       "    <tr>\n",
       "      <th>Elite</th>\n",
       "      <td>66.43</td>\n",
       "      <td>5.94</td>\n",
       "      <td>1.80</td>\n",
       "      <td>7.96</td>\n",
       "      <td>8.35</td>\n",
       "      <td>12.01</td>\n",
       "    </tr>\n",
       "    <tr>\n",
       "      <th>Middle</th>\n",
       "      <td>62.92</td>\n",
       "      <td>4.26</td>\n",
       "      <td>2.35</td>\n",
       "      <td>7.08</td>\n",
       "      <td>6.88</td>\n",
       "      <td>11.28</td>\n",
       "    </tr>\n",
       "    <tr>\n",
       "      <th>Scrub</th>\n",
       "      <td>60.08</td>\n",
       "      <td>3.56</td>\n",
       "      <td>3.02</td>\n",
       "      <td>6.82</td>\n",
       "      <td>6.18</td>\n",
       "      <td>11.36</td>\n",
       "    </tr>\n",
       "  </tbody>\n",
       "</table>\n",
       "</div>"
      ],
      "text/plain": [
       "         Cmp%   TD%  Int%   Y/A  AY/A    Y/C\n",
       "Label                                       \n",
       "Elite   66.43  5.94  1.80  7.96  8.35  12.01\n",
       "Middle  62.92  4.26  2.35  7.08  6.88  11.28\n",
       "Scrub   60.08  3.56  3.02  6.82  6.18  11.36"
      ]
     },
     "execution_count": 51,
     "metadata": {},
     "output_type": "execute_result"
    }
   ],
   "source": [
    "calculated_stats.groupby('Label').mean().round(2)"
   ]
  },
  {
   "cell_type": "markdown",
   "metadata": {},
   "source": [
    "It's interesting to see that a quarterback's increased propensity to rush does not make him more \"elite\" based on our clustering results, which is in line with today's NFL, which favors pass-heavy teams. Besides Cam Newton, rushing-heavy quarterbacks to not fare well long-term/last long as elite quarterbacks (like RG3, Colin Kaepernick etc.) possibly because of durability issues."
   ]
  },
  {
   "cell_type": "code",
   "execution_count": 52,
   "metadata": {
    "scrolled": true
   },
   "outputs": [
    {
     "data": {
      "text/html": [
       "<div>\n",
       "<style scoped>\n",
       "    .dataframe tbody tr th:only-of-type {\n",
       "        vertical-align: middle;\n",
       "    }\n",
       "\n",
       "    .dataframe tbody tr th {\n",
       "        vertical-align: top;\n",
       "    }\n",
       "\n",
       "    .dataframe thead th {\n",
       "        text-align: right;\n",
       "    }\n",
       "</style>\n",
       "<table border=\"1\" class=\"dataframe\">\n",
       "  <thead>\n",
       "    <tr style=\"text-align: right;\">\n",
       "      <th></th>\n",
       "      <th>Rushing Att</th>\n",
       "      <th>Rushing Yds</th>\n",
       "      <th>Rushing TD</th>\n",
       "    </tr>\n",
       "    <tr>\n",
       "      <th>Label</th>\n",
       "      <th></th>\n",
       "      <th></th>\n",
       "      <th></th>\n",
       "    </tr>\n",
       "  </thead>\n",
       "  <tbody>\n",
       "    <tr>\n",
       "      <th>Elite</th>\n",
       "      <td>39.65</td>\n",
       "      <td>142.31</td>\n",
       "      <td>1.57</td>\n",
       "    </tr>\n",
       "    <tr>\n",
       "      <th>Middle</th>\n",
       "      <td>48.60</td>\n",
       "      <td>222.56</td>\n",
       "      <td>1.98</td>\n",
       "    </tr>\n",
       "    <tr>\n",
       "      <th>Scrub</th>\n",
       "      <td>32.14</td>\n",
       "      <td>155.22</td>\n",
       "      <td>1.14</td>\n",
       "    </tr>\n",
       "  </tbody>\n",
       "</table>\n",
       "</div>"
      ],
      "text/plain": [
       "        Rushing Att  Rushing Yds  Rushing TD\n",
       "Label                                       \n",
       "Elite         39.65       142.31        1.57\n",
       "Middle        48.60       222.56        1.98\n",
       "Scrub         32.14       155.22        1.14"
      ]
     },
     "execution_count": 52,
     "metadata": {},
     "output_type": "execute_result"
    }
   ],
   "source": [
    "rushing_stats.groupby('Label').mean().round(2)"
   ]
  },
  {
   "cell_type": "code",
   "execution_count": 53,
   "metadata": {
    "scrolled": false
   },
   "outputs": [
    {
     "data": {
      "text/html": [
       "<div>\n",
       "<style scoped>\n",
       "    .dataframe tbody tr th:only-of-type {\n",
       "        vertical-align: middle;\n",
       "    }\n",
       "\n",
       "    .dataframe tbody tr th {\n",
       "        vertical-align: top;\n",
       "    }\n",
       "\n",
       "    .dataframe thead th {\n",
       "        text-align: right;\n",
       "    }\n",
       "</style>\n",
       "<table border=\"1\" class=\"dataframe\">\n",
       "  <thead>\n",
       "    <tr style=\"text-align: right;\">\n",
       "      <th></th>\n",
       "      <th>wins</th>\n",
       "      <th>losses</th>\n",
       "      <th>ties</th>\n",
       "      <th>win%</th>\n",
       "    </tr>\n",
       "    <tr>\n",
       "      <th>Label</th>\n",
       "      <th></th>\n",
       "      <th></th>\n",
       "      <th></th>\n",
       "      <th></th>\n",
       "    </tr>\n",
       "  </thead>\n",
       "  <tbody>\n",
       "    <tr>\n",
       "      <th>Elite</th>\n",
       "      <td>10.41</td>\n",
       "      <td>4.65</td>\n",
       "      <td>0.04</td>\n",
       "      <td>69.13</td>\n",
       "    </tr>\n",
       "    <tr>\n",
       "      <th>Middle</th>\n",
       "      <td>7.62</td>\n",
       "      <td>7.68</td>\n",
       "      <td>0.08</td>\n",
       "      <td>49.45</td>\n",
       "    </tr>\n",
       "    <tr>\n",
       "      <th>Scrub</th>\n",
       "      <td>3.59</td>\n",
       "      <td>6.61</td>\n",
       "      <td>0.02</td>\n",
       "      <td>35.59</td>\n",
       "    </tr>\n",
       "  </tbody>\n",
       "</table>\n",
       "</div>"
      ],
      "text/plain": [
       "         wins  losses  ties   win%\n",
       "Label                             \n",
       "Elite   10.41    4.65  0.04  69.13\n",
       "Middle   7.62    7.68  0.08  49.45\n",
       "Scrub    3.59    6.61  0.02  35.59"
      ]
     },
     "execution_count": 53,
     "metadata": {},
     "output_type": "execute_result"
    }
   ],
   "source": [
    "record_stats.groupby('Label').mean().round(2)"
   ]
  },
  {
   "cell_type": "markdown",
   "metadata": {},
   "source": [
    "To build off one of our initial research questions, we can see here that wins/losses was important in determing the clusters. The more elite a quarterback seems to be, the more his team wins."
   ]
  },
  {
   "cell_type": "markdown",
   "metadata": {},
   "source": [
    "##### How many times a player appeared in each Cluster"
   ]
  },
  {
   "cell_type": "markdown",
   "metadata": {},
   "source": [
    "<b>Elite Quarterbacks</b>"
   ]
  },
  {
   "cell_type": "markdown",
   "metadata": {},
   "source": [
    "Not surprisingly, appearing most in this cluster are Drew Brees, Tom Brady, Aaron Rodgers, and Ben Roethlisberger - all future hall of famers."
   ]
  },
  {
   "cell_type": "code",
   "execution_count": 54,
   "metadata": {
    "scrolled": true
   },
   "outputs": [
    {
     "data": {
      "text/plain": [
       "Player\n",
       "Aaron Rodgers         3\n",
       "Alex Smith            1\n",
       "Andrew Luck           2\n",
       "Andy Dalton           1\n",
       "Ben Roethlisberger    5\n",
       "Cam Newton            1\n",
       "Carson Palmer         1\n",
       "Carson Wentz          2\n",
       "Case Keenum           1\n",
       "Dak Prescott          1\n",
       "Derek Carr            1\n",
       "Drew Brees            6\n",
       "Jared Goff            2\n",
       "Joe Flacco            1\n",
       "Kirk Cousins          2\n",
       "Matt Ryan             3\n",
       "Matthew Stafford      1\n",
       "Mitchell Trubisky     1\n",
       "Nick Foles            1\n",
       "Patrick Mahomes       1\n",
       "Peyton Manning        2\n",
       "Philip Rivers         3\n",
       "Russell Wilson        3\n",
       "Tom Brady             5\n",
       "Tony Romo             1\n",
       "dtype: int64"
      ]
     },
     "execution_count": 54,
     "metadata": {},
     "output_type": "execute_result"
    }
   ],
   "source": [
    "full_data.groupby(['Label', 'Player']).size()['Elite']"
   ]
  },
  {
   "cell_type": "markdown",
   "metadata": {},
   "source": [
    "<b> Middle Quarterbacks</b>\n",
    "\n",
    "Popular game-manager (but above-average) type quarterbacks such as Alex Smith, Andy Dalton, and Eli Manning (much debate on this due to his rings) appear the most in this cluster. Some of these quarterbacks have very high yards/games but they are not often considered elite becuase their production is often attributed to very good personnel around them or a pass-heavy gameplan (such as Matt Stafford) It is interesting to see Cam Newton appear many times on this as well, as many may consider him elite, but our analysis favored pass-heavy quarterbacks over rush-heavy quarterbacks."
   ]
  },
  {
   "cell_type": "code",
   "execution_count": 55,
   "metadata": {
    "scrolled": true
   },
   "outputs": [
    {
     "data": {
      "text/plain": [
       "Player\n",
       "Aaron Rodgers         2\n",
       "Alex Smith            5\n",
       "Andrew Luck           2\n",
       "Andy Dalton           4\n",
       "Baker Mayfield        1\n",
       "Ben Roethlisberger    1\n",
       "Blake Bortles         3\n",
       "Cam Newton            5\n",
       "Carson Palmer         2\n",
       "Carson Wentz          1\n",
       "Case Keenum           1\n",
       "Colin Kaepernick      2\n",
       "Dak Prescott          2\n",
       "Derek Carr            4\n",
       "Deshaun Watson        1\n",
       "Eli Manning           6\n",
       "Geno Smith            1\n",
       "Jacoby Brissett       1\n",
       "Jameis Winston        3\n",
       "Jay Cutler            2\n",
       "Joe Flacco            3\n",
       "Josh McCown           1\n",
       "Kirk Cousins          2\n",
       "Kyle Orton            1\n",
       "Marcus Mariota        3\n",
       "Matt Ryan             3\n",
       "Matthew Stafford      5\n",
       "Philip Rivers         3\n",
       "Robert Griffin        1\n",
       "Russell Wilson        3\n",
       "Ryan Fitzpatrick      1\n",
       "Ryan Tannehill        4\n",
       "Sam Bradford          2\n",
       "Teddy Bridgewater     2\n",
       "Tom Brady             1\n",
       "Tony Romo             1\n",
       "Trevor Siemian        1\n",
       "Tyrod Taylor          2\n",
       "dtype: int64"
      ]
     },
     "execution_count": 55,
     "metadata": {},
     "output_type": "execute_result"
    }
   ],
   "source": [
    "full_data.groupby(['Label', 'Player']).size()['Middle']"
   ]
  },
  {
   "cell_type": "markdown",
   "metadata": {},
   "source": [
    "<b>Scrub Quarterbacks</b>\n",
    "    \n",
    "Most of these quarterbacks were bottom of the pack quarterbacks during the seasons in which they were placed in this cluster."
   ]
  },
  {
   "cell_type": "code",
   "execution_count": 56,
   "metadata": {},
   "outputs": [
    {
     "data": {
      "text/plain": [
       "Player\n",
       "Alex Smith           1\n",
       "Austin Davis         1\n",
       "Blaine Gabbert       1\n",
       "Blake Bortles        2\n",
       "Brett Hundley        1\n",
       "Brian Hoyer          2\n",
       "Brock Osweiler       1\n",
       "Case Keenum          2\n",
       "Chad Henne           1\n",
       "Christian Ponder     1\n",
       "Cody Kessler         1\n",
       "Colin Kaepernick     2\n",
       "DeShone Kizer        1\n",
       "Drew Stanton         1\n",
       "EJ Manuel            1\n",
       "Geno Smith           1\n",
       "Jameis Winston       1\n",
       "Jason Campbell       1\n",
       "Jay Cutler           2\n",
       "Joe Flacco           2\n",
       "Josh Allen           1\n",
       "Josh McCown          2\n",
       "Josh Rosen           1\n",
       "Kellen Clemens       1\n",
       "Marcus Mariota       1\n",
       "Mark Sanchez         1\n",
       "Matt Hasselbeck      1\n",
       "Matt Schaub          1\n",
       "Mike Glennon         1\n",
       "Mitchell Trubisky    1\n",
       "Nick Foles           2\n",
       "Nick Mullens         1\n",
       "Peyton Manning       1\n",
       "Ryan Fitzpatrick     3\n",
       "Ryan Tannehill       1\n",
       "Sam Darnold          1\n",
       "Shaun Hill           1\n",
       "Terrelle Pryor       1\n",
       "Trevor Siemian       1\n",
       "dtype: int64"
      ]
     },
     "execution_count": 56,
     "metadata": {},
     "output_type": "execute_result"
    }
   ],
   "source": [
    "full_data.groupby(['Label', 'Player']).size()['Scrub']"
   ]
  },
  {
   "cell_type": "markdown",
   "metadata": {},
   "source": [
    "### Bokeh Scatter Plot"
   ]
  },
  {
   "cell_type": "markdown",
   "metadata": {},
   "source": [
    "As an extra addition, we included an interactive scatter plot using the bokeh library that allows the user to hover their mouse over each individual point, allowing them to see which NFL quarterback (and which year) represents each dot. Other information that you can view when hovering are basic stats from that season. Bokeh plots also allow for pan across the plot while being able to zoom in and out on the plot. Because Bokeh plots are not displayable on github, we included the html file in the github repository. Clone the repository and open up the html file in order to view the interactive Bokeh plot."
   ]
  },
  {
   "cell_type": "code",
   "execution_count": 57,
   "metadata": {},
   "outputs": [],
   "source": [
    "from bokeh.plotting import figure, output_notebook, show, ColumnDataSource, output_file\n",
    "from bokeh.models import CategoricalColorMapper\n",
    "from bokeh.palettes import Category10"
   ]
  },
  {
   "cell_type": "code",
   "execution_count": 58,
   "metadata": {},
   "outputs": [],
   "source": [
    "output_file('qb_plot.html')\n",
    "\n",
    "source = ColumnDataSource(data = {'Player' : full_data.Player,\n",
    "                                  'Year' : full_data.Year,\n",
    "                                  'Yards' : full_data.Yds,\n",
    "                                  'TD' : full_data.TD,\n",
    "                                  'Int' : full_data.Int,\n",
    "                                  'QBR' : full_data.QBR,\n",
    "                                  'Passer_Rating' : full_data.Rate,\n",
    "                                  'label' : full_data.Label,\n",
    "                                  'zero' : full_data.iloc[:,34],\n",
    "                                 'one' : full_data.iloc[:,35]})\n",
    "\n",
    "color_labels = CategoricalColorMapper(factors = ['Elite','Middle','Scrub'], palette = [Category10[3][0], Category10[3][1], Category10[3][2]])\n",
    "\n",
    "info = [('Player','@Player'),\n",
    "       ('Year', '@Year'),\n",
    "       ('Yards', '@Yards'),\n",
    "       ('TDs', '@TD'),\n",
    "       ('Ints','@Int'),\n",
    "       ('Passer Rating','@Passer_Rating'),\n",
    "       ('QBR','@QBR')]\n",
    "\n",
    "p = figure(plot_width = 700, plot_height = 600, title = 'K-Means NFL Quarterbacks', tooltips = info)\n",
    "p.circle('zero', 'one', size = 10, alpha = 0.5, source=source, \n",
    "         color = {'field':'label', 'transform':color_labels}, legend = 'label')\n",
    "show(p)"
   ]
  },
  {
   "cell_type": "markdown",
   "metadata": {},
   "source": [
    "### Blake Bortles"
   ]
  },
  {
   "cell_type": "code",
   "execution_count": 68,
   "metadata": {
    "scrolled": true
   },
   "outputs": [
    {
     "data": {
      "text/html": [
       "<div>\n",
       "<style scoped>\n",
       "    .dataframe tbody tr th:only-of-type {\n",
       "        vertical-align: middle;\n",
       "    }\n",
       "\n",
       "    .dataframe tbody tr th {\n",
       "        vertical-align: top;\n",
       "    }\n",
       "\n",
       "    .dataframe thead th {\n",
       "        text-align: right;\n",
       "    }\n",
       "</style>\n",
       "<table border=\"1\" class=\"dataframe\">\n",
       "  <thead>\n",
       "    <tr style=\"text-align: right;\">\n",
       "      <th></th>\n",
       "      <th>Year</th>\n",
       "      <th>Player</th>\n",
       "      <th>Age</th>\n",
       "      <th>G</th>\n",
       "      <th>GS</th>\n",
       "      <th>Cmp</th>\n",
       "      <th>Att</th>\n",
       "      <th>Cmp%</th>\n",
       "      <th>Yds</th>\n",
       "      <th>Y/A</th>\n",
       "      <th>TD</th>\n",
       "      <th>Int</th>\n",
       "      <th>TD%</th>\n",
       "      <th>Int%</th>\n",
       "      <th>Y/G</th>\n",
       "      <th>Rate</th>\n",
       "      <th>QBR</th>\n",
       "      <th>wins</th>\n",
       "      <th>losses</th>\n",
       "      <th>Label</th>\n",
       "    </tr>\n",
       "  </thead>\n",
       "  <tbody>\n",
       "    <tr>\n",
       "      <th>50</th>\n",
       "      <td>2014</td>\n",
       "      <td>Blake Bortles</td>\n",
       "      <td>22</td>\n",
       "      <td>14</td>\n",
       "      <td>13</td>\n",
       "      <td>280</td>\n",
       "      <td>475</td>\n",
       "      <td>58.9</td>\n",
       "      <td>2908</td>\n",
       "      <td>6.1</td>\n",
       "      <td>11</td>\n",
       "      <td>17</td>\n",
       "      <td>2.3</td>\n",
       "      <td>3.6</td>\n",
       "      <td>207.7</td>\n",
       "      <td>69.5</td>\n",
       "      <td>26.7</td>\n",
       "      <td>3</td>\n",
       "      <td>10</td>\n",
       "      <td>Scrub</td>\n",
       "    </tr>\n",
       "    <tr>\n",
       "      <th>71</th>\n",
       "      <td>2015</td>\n",
       "      <td>Blake Bortles</td>\n",
       "      <td>23</td>\n",
       "      <td>16</td>\n",
       "      <td>16</td>\n",
       "      <td>355</td>\n",
       "      <td>606</td>\n",
       "      <td>58.6</td>\n",
       "      <td>4428</td>\n",
       "      <td>7.3</td>\n",
       "      <td>35</td>\n",
       "      <td>18</td>\n",
       "      <td>5.8</td>\n",
       "      <td>3.0</td>\n",
       "      <td>276.8</td>\n",
       "      <td>88.2</td>\n",
       "      <td>51.8</td>\n",
       "      <td>5</td>\n",
       "      <td>11</td>\n",
       "      <td>Middle</td>\n",
       "    </tr>\n",
       "    <tr>\n",
       "      <th>99</th>\n",
       "      <td>2016</td>\n",
       "      <td>Blake Bortles</td>\n",
       "      <td>24</td>\n",
       "      <td>16</td>\n",
       "      <td>16</td>\n",
       "      <td>368</td>\n",
       "      <td>625</td>\n",
       "      <td>58.9</td>\n",
       "      <td>3905</td>\n",
       "      <td>6.2</td>\n",
       "      <td>23</td>\n",
       "      <td>16</td>\n",
       "      <td>3.7</td>\n",
       "      <td>2.6</td>\n",
       "      <td>244.1</td>\n",
       "      <td>78.8</td>\n",
       "      <td>42.8</td>\n",
       "      <td>3</td>\n",
       "      <td>13</td>\n",
       "      <td>Middle</td>\n",
       "    </tr>\n",
       "    <tr>\n",
       "      <th>138</th>\n",
       "      <td>2017</td>\n",
       "      <td>Blake Bortles</td>\n",
       "      <td>25</td>\n",
       "      <td>16</td>\n",
       "      <td>16</td>\n",
       "      <td>315</td>\n",
       "      <td>523</td>\n",
       "      <td>60.2</td>\n",
       "      <td>3687</td>\n",
       "      <td>7.0</td>\n",
       "      <td>21</td>\n",
       "      <td>13</td>\n",
       "      <td>4.0</td>\n",
       "      <td>2.5</td>\n",
       "      <td>230.4</td>\n",
       "      <td>84.7</td>\n",
       "      <td>59.2</td>\n",
       "      <td>10</td>\n",
       "      <td>6</td>\n",
       "      <td>Middle</td>\n",
       "    </tr>\n",
       "    <tr>\n",
       "      <th>178</th>\n",
       "      <td>2018</td>\n",
       "      <td>Blake Bortles</td>\n",
       "      <td>26</td>\n",
       "      <td>13</td>\n",
       "      <td>12</td>\n",
       "      <td>243</td>\n",
       "      <td>403</td>\n",
       "      <td>60.3</td>\n",
       "      <td>2718</td>\n",
       "      <td>6.7</td>\n",
       "      <td>13</td>\n",
       "      <td>11</td>\n",
       "      <td>3.2</td>\n",
       "      <td>2.7</td>\n",
       "      <td>209.1</td>\n",
       "      <td>79.8</td>\n",
       "      <td>44.1</td>\n",
       "      <td>3</td>\n",
       "      <td>9</td>\n",
       "      <td>Scrub</td>\n",
       "    </tr>\n",
       "  </tbody>\n",
       "</table>\n",
       "</div>"
      ],
      "text/plain": [
       "     Year         Player  Age   G  GS  Cmp  Att  Cmp%   Yds  Y/A  TD  Int  \\\n",
       "50   2014  Blake Bortles   22  14  13  280  475  58.9  2908  6.1  11   17   \n",
       "71   2015  Blake Bortles   23  16  16  355  606  58.6  4428  7.3  35   18   \n",
       "99   2016  Blake Bortles   24  16  16  368  625  58.9  3905  6.2  23   16   \n",
       "138  2017  Blake Bortles   25  16  16  315  523  60.2  3687  7.0  21   13   \n",
       "178  2018  Blake Bortles   26  13  12  243  403  60.3  2718  6.7  13   11   \n",
       "\n",
       "     TD%  Int%    Y/G  Rate   QBR  wins  losses   Label  \n",
       "50   2.3   3.6  207.7  69.5  26.7     3      10   Scrub  \n",
       "71   5.8   3.0  276.8  88.2  51.8     5      11  Middle  \n",
       "99   3.7   2.6  244.1  78.8  42.8     3      13  Middle  \n",
       "138  4.0   2.5  230.4  84.7  59.2    10       6  Middle  \n",
       "178  3.2   2.7  209.1  79.8  44.1     3       9   Scrub  "
      ]
     },
     "execution_count": 68,
     "metadata": {},
     "output_type": "execute_result"
    }
   ],
   "source": [
    "full_data.loc[full_data.Player == 'Blake Bortles', \n",
    "              ['Year','Player', 'Age', 'G', 'GS', 'Cmp', 'Att', 'Cmp%','Yds', 'Y/A','TD', 'Int', 'TD%',\n",
    "               'Int%','Y/G', 'Rate', 'QBR','wins', 'losses','Label']] "
   ]
  },
  {
   "cell_type": "markdown",
   "metadata": {},
   "source": [
    "### Testing significance"
   ]
  },
  {
   "cell_type": "code",
   "execution_count": 77,
   "metadata": {
    "scrolled": false
   },
   "outputs": [
    {
     "data": {
      "text/html": [
       "<div>\n",
       "<style scoped>\n",
       "    .dataframe tbody tr th:only-of-type {\n",
       "        vertical-align: middle;\n",
       "    }\n",
       "\n",
       "    .dataframe tbody tr th {\n",
       "        vertical-align: top;\n",
       "    }\n",
       "\n",
       "    .dataframe thead th {\n",
       "        text-align: right;\n",
       "    }\n",
       "</style>\n",
       "<table border=\"1\" class=\"dataframe\">\n",
       "  <thead>\n",
       "    <tr style=\"text-align: right;\">\n",
       "      <th></th>\n",
       "      <th>Year</th>\n",
       "      <th>Player</th>\n",
       "      <th>Age</th>\n",
       "      <th>G</th>\n",
       "      <th>GS</th>\n",
       "      <th>Cmp</th>\n",
       "      <th>Att</th>\n",
       "      <th>Cmp%</th>\n",
       "      <th>Yds</th>\n",
       "      <th>TD</th>\n",
       "      <th>...</th>\n",
       "      <th>1</th>\n",
       "      <th>2</th>\n",
       "      <th>3</th>\n",
       "      <th>4</th>\n",
       "      <th>5</th>\n",
       "      <th>6</th>\n",
       "      <th>7</th>\n",
       "      <th>8</th>\n",
       "      <th>9</th>\n",
       "      <th>Label</th>\n",
       "    </tr>\n",
       "  </thead>\n",
       "  <tbody>\n",
       "    <tr>\n",
       "      <th>0</th>\n",
       "      <td>2013</td>\n",
       "      <td>Peyton Manning</td>\n",
       "      <td>37</td>\n",
       "      <td>16</td>\n",
       "      <td>16</td>\n",
       "      <td>450</td>\n",
       "      <td>659</td>\n",
       "      <td>68.3</td>\n",
       "      <td>5477</td>\n",
       "      <td>55</td>\n",
       "      <td>...</td>\n",
       "      <td>2.286329</td>\n",
       "      <td>-2.403122</td>\n",
       "      <td>-0.212213</td>\n",
       "      <td>-0.620901</td>\n",
       "      <td>-0.948989</td>\n",
       "      <td>-0.863630</td>\n",
       "      <td>0.528627</td>\n",
       "      <td>0.041962</td>\n",
       "      <td>0.418523</td>\n",
       "      <td>Elite</td>\n",
       "    </tr>\n",
       "    <tr>\n",
       "      <th>1</th>\n",
       "      <td>2013</td>\n",
       "      <td>Matt Ryan</td>\n",
       "      <td>28</td>\n",
       "      <td>16</td>\n",
       "      <td>16</td>\n",
       "      <td>439</td>\n",
       "      <td>651</td>\n",
       "      <td>67.4</td>\n",
       "      <td>4515</td>\n",
       "      <td>26</td>\n",
       "      <td>...</td>\n",
       "      <td>-3.240417</td>\n",
       "      <td>-2.956096</td>\n",
       "      <td>-2.333678</td>\n",
       "      <td>-0.858588</td>\n",
       "      <td>-0.077854</td>\n",
       "      <td>-0.206360</td>\n",
       "      <td>-0.437583</td>\n",
       "      <td>-0.447490</td>\n",
       "      <td>-1.216581</td>\n",
       "      <td>Middle</td>\n",
       "    </tr>\n",
       "    <tr>\n",
       "      <th>2</th>\n",
       "      <td>2013</td>\n",
       "      <td>Drew Brees</td>\n",
       "      <td>34</td>\n",
       "      <td>16</td>\n",
       "      <td>16</td>\n",
       "      <td>446</td>\n",
       "      <td>650</td>\n",
       "      <td>68.6</td>\n",
       "      <td>5162</td>\n",
       "      <td>39</td>\n",
       "      <td>...</td>\n",
       "      <td>-0.664288</td>\n",
       "      <td>-0.903726</td>\n",
       "      <td>-0.772148</td>\n",
       "      <td>-0.163440</td>\n",
       "      <td>-0.416082</td>\n",
       "      <td>-0.259219</td>\n",
       "      <td>0.700605</td>\n",
       "      <td>0.030929</td>\n",
       "      <td>-0.743442</td>\n",
       "      <td>Elite</td>\n",
       "    </tr>\n",
       "    <tr>\n",
       "      <th>3</th>\n",
       "      <td>2013</td>\n",
       "      <td>Matthew Stafford</td>\n",
       "      <td>25</td>\n",
       "      <td>16</td>\n",
       "      <td>16</td>\n",
       "      <td>371</td>\n",
       "      <td>634</td>\n",
       "      <td>58.5</td>\n",
       "      <td>4650</td>\n",
       "      <td>29</td>\n",
       "      <td>...</td>\n",
       "      <td>-1.456205</td>\n",
       "      <td>-2.234784</td>\n",
       "      <td>1.966175</td>\n",
       "      <td>-2.472519</td>\n",
       "      <td>-0.059769</td>\n",
       "      <td>0.340822</td>\n",
       "      <td>-1.331402</td>\n",
       "      <td>-0.026445</td>\n",
       "      <td>0.672950</td>\n",
       "      <td>Middle</td>\n",
       "    </tr>\n",
       "    <tr>\n",
       "      <th>4</th>\n",
       "      <td>2013</td>\n",
       "      <td>Tom Brady</td>\n",
       "      <td>36</td>\n",
       "      <td>16</td>\n",
       "      <td>16</td>\n",
       "      <td>380</td>\n",
       "      <td>628</td>\n",
       "      <td>60.5</td>\n",
       "      <td>4343</td>\n",
       "      <td>25</td>\n",
       "      <td>...</td>\n",
       "      <td>-1.670703</td>\n",
       "      <td>-1.042164</td>\n",
       "      <td>1.365477</td>\n",
       "      <td>2.438996</td>\n",
       "      <td>1.572078</td>\n",
       "      <td>-0.781240</td>\n",
       "      <td>-0.321322</td>\n",
       "      <td>1.640375</td>\n",
       "      <td>0.634728</td>\n",
       "      <td>Middle</td>\n",
       "    </tr>\n",
       "  </tbody>\n",
       "</table>\n",
       "<p>5 rows × 45 columns</p>\n",
       "</div>"
      ],
      "text/plain": [
       "   Year            Player  Age   G  GS  Cmp  Att  Cmp%   Yds  TD   ...    \\\n",
       "0  2013    Peyton Manning   37  16  16  450  659  68.3  5477  55   ...     \n",
       "1  2013         Matt Ryan   28  16  16  439  651  67.4  4515  26   ...     \n",
       "2  2013        Drew Brees   34  16  16  446  650  68.6  5162  39   ...     \n",
       "3  2013  Matthew Stafford   25  16  16  371  634  58.5  4650  29   ...     \n",
       "4  2013         Tom Brady   36  16  16  380  628  60.5  4343  25   ...     \n",
       "\n",
       "          1         2         3         4         5         6         7  \\\n",
       "0  2.286329 -2.403122 -0.212213 -0.620901 -0.948989 -0.863630  0.528627   \n",
       "1 -3.240417 -2.956096 -2.333678 -0.858588 -0.077854 -0.206360 -0.437583   \n",
       "2 -0.664288 -0.903726 -0.772148 -0.163440 -0.416082 -0.259219  0.700605   \n",
       "3 -1.456205 -2.234784  1.966175 -2.472519 -0.059769  0.340822 -1.331402   \n",
       "4 -1.670703 -1.042164  1.365477  2.438996  1.572078 -0.781240 -0.321322   \n",
       "\n",
       "          8         9   Label  \n",
       "0  0.041962  0.418523   Elite  \n",
       "1 -0.447490 -1.216581  Middle  \n",
       "2  0.030929 -0.743442   Elite  \n",
       "3 -0.026445  0.672950  Middle  \n",
       "4  1.640375  0.634728  Middle  \n",
       "\n",
       "[5 rows x 45 columns]"
      ]
     },
     "execution_count": 77,
     "metadata": {},
     "output_type": "execute_result"
    }
   ],
   "source": [
    "full_data.head()"
   ]
  },
  {
   "cell_type": "code",
   "execution_count": 93,
   "metadata": {},
   "outputs": [],
   "source": [
    "scrub = full_data[full_data.Label == 'Scrub']\n",
    "middle = full_data[full_data.Label == 'Middle']\n",
    "elite = full_data[full_data.Label == 'Elite']"
   ]
  },
  {
   "cell_type": "code",
   "execution_count": 98,
   "metadata": {
    "scrolled": true
   },
   "outputs": [
    {
     "data": {
      "text/plain": [
       "True"
      ]
     },
     "execution_count": 98,
     "metadata": {},
     "output_type": "execute_result"
    }
   ],
   "source": [
    "ttest_ind(elite.Cmp, middle.Cmp).pvalue >= 0.05"
   ]
  },
  {
   "cell_type": "code",
   "execution_count": 95,
   "metadata": {},
   "outputs": [],
   "source": [
    "stat_check = ['Cmp', 'Att', 'Yds', 'TD', 'Int', 'Y/G', 'Sk', 'GWD', 'Rate', 'QBR', 'wins', 'losses','ties', \n",
    "              'win%', 'Cmp%', 'TD%', 'Int%', 'Y/A', 'AY/A', 'Y/C', 'Rushing Att', 'Rushing Yds', 'Rushing TD']"
   ]
  },
  {
   "cell_type": "code",
   "execution_count": 110,
   "metadata": {},
   "outputs": [
    {
     "name": "stdout",
     "output_type": "stream",
     "text": [
      "Var: Cmp | P-Value: 0.0657 | Significant: False \n",
      "\n",
      "Var: Att | P-Value: 0.8743 | Significant: False \n",
      "\n",
      "Var: Yds | P-Value: 0.0 | Significant: True \n",
      "\n",
      "Var: TD | P-Value: 0.0 | Significant: True \n",
      "\n",
      "Var: Int | P-Value: 0.0001 | Significant: True \n",
      "\n",
      "Var: Y/G | P-Value: 0.0 | Significant: True \n",
      "\n",
      "Var: Sk | P-Value: 0.0 | Significant: True \n",
      "\n",
      "Var: GWD | P-Value: 0.7985 | Significant: False \n",
      "\n",
      "Var: Rate | P-Value: 0.0 | Significant: True \n",
      "\n",
      "Var: QBR | P-Value: 0.0 | Significant: True \n",
      "\n",
      "Var: wins | P-Value: 0.0 | Significant: True \n",
      "\n",
      "Var: losses | P-Value: 0.0 | Significant: True \n",
      "\n",
      "Var: ties | P-Value: 0.3553 | Significant: False \n",
      "\n",
      "Var: win% | P-Value: 0.0 | Significant: True \n",
      "\n",
      "Var: Cmp% | P-Value: 0.0 | Significant: True \n",
      "\n",
      "Var: TD% | P-Value: 0.0 | Significant: True \n",
      "\n",
      "Var: Int% | P-Value: 0.0 | Significant: True \n",
      "\n",
      "Var: Y/A | P-Value: 0.0 | Significant: True \n",
      "\n",
      "Var: AY/A | P-Value: 0.0 | Significant: True \n",
      "\n",
      "Var: Y/C | P-Value: 0.0 | Significant: True \n",
      "\n",
      "Var: Rushing Att | P-Value: 0.0637 | Significant: False \n",
      "\n",
      "Var: Rushing Yds | P-Value: 0.0113 | Significant: True \n",
      "\n",
      "Var: Rushing TD | P-Value: 0.2391 | Significant: False \n",
      "\n"
     ]
    }
   ],
   "source": [
    "for stat in stat_check:\n",
    "    val = round(ttest_ind(elite[stat], middle[stat]).pvalue, 4)\n",
    "    print 'Var:', stat, '|','P-Value:', val, '|', 'Significant:', val <= 0.05, '\\n'"
   ]
  }
 ],
 "metadata": {
  "kernelspec": {
   "display_name": "Python 2",
   "language": "python",
   "name": "python2"
  },
  "language_info": {
   "codemirror_mode": {
    "name": "ipython",
    "version": 2
   },
   "file_extension": ".py",
   "mimetype": "text/x-python",
   "name": "python",
   "nbconvert_exporter": "python",
   "pygments_lexer": "ipython2",
   "version": "2.7.10"
  }
 },
 "nbformat": 4,
 "nbformat_minor": 2
}
