{
 "cells": [
  {
   "cell_type": "code",
   "execution_count": 1,
   "metadata": {},
   "outputs": [],
   "source": [
    "import pandas as pd\n",
    "import numpy as np\n",
    "import matplotlib.pyplot as plt\n",
    "import matplotlib.gridspec as gridspec\n",
    "import seaborn as sns\n",
    "import bokeh"
   ]
  },
  {
   "cell_type": "code",
   "execution_count": 2,
   "metadata": {},
   "outputs": [],
   "source": [
    "from sklearn.decomposition import PCA\n",
    "from sklearn.preprocessing import StandardScaler\n",
    "from sklearn.model_selection import train_test_split\n",
    "from sklearn.pipeline import Pipeline\n",
    "from sklearn.cluster import KMeans\n",
    "from sklearn.model_selection import GridSearchCV"
   ]
  },
  {
   "cell_type": "code",
   "execution_count": 3,
   "metadata": {},
   "outputs": [],
   "source": [
    "import warnings\n",
    "warnings.filterwarnings('ignore')"
   ]
  },
  {
   "cell_type": "markdown",
   "metadata": {},
   "source": [
    "## Importing Data"
   ]
  },
  {
   "cell_type": "code",
   "execution_count": null,
   "metadata": {},
   "outputs": [],
   "source": [
    "nfl_data = {}\n",
    "wr_filter = ['Player', ' Tm', 'Age', 'Pos', 'Games G', 'Games GS', 'Receiving Tgt', 'Rec', 'Receiving Yds',\n",
    "            'Receiving Y/R', 'Receiving TD', 'Receiving Lng', 'Receiving R/G', 'Receiving Y/G', \n",
    "             'Receiving Ctch%', 'Fmb']"
   ]
  },
  {
   "cell_type": "code",
   "execution_count": null,
   "metadata": {},
   "outputs": [],
   "source": [
    "pro_bowl = {2013 : ['']}"
   ]
  },
  {
   "cell_type": "code",
   "execution_count": null,
   "metadata": {},
   "outputs": [],
   "source": [
    "def add_pro_bowl(data, year):\n",
    "    if data.Player in pro_bowl[year]:\n",
    "        return 1\n",
    "    else:\n",
    "        return 0"
   ]
  },
  {
   "cell_type": "code",
   "execution_count": null,
   "metadata": {},
   "outputs": [],
   "source": [
    "for i in range(2013,2019):\n",
    "    rr_data = pd.read_csv('/Data/nfl-{}-rr.csv'.format(i))\n",
    "    "
   ]
  },
  {
   "cell_type": "code",
   "execution_count": 6,
   "metadata": {},
   "outputs": [
    {
     "name": "stdout",
     "output_type": "stream",
     "text": [
      "<class 'pandas.core.frame.DataFrame'>\n",
      "RangeIndex: 527 entries, 0 to 526\n",
      "Data columns (total 28 columns):\n",
      "Rk                 527 non-null int64\n",
      "Player             527 non-null object\n",
      "Tm                 527 non-null object\n",
      "Age                527 non-null int64\n",
      "Pos                393 non-null object\n",
      "Games G            527 non-null int64\n",
      "Games GS           527 non-null int64\n",
      "Receiving Tgt      527 non-null int64\n",
      "Receiving Rec      527 non-null int64\n",
      "Receiving Yds      527 non-null int64\n",
      "Receiving Y/R      455 non-null float64\n",
      "Receiving TD       527 non-null int64\n",
      "Receiving Lng      527 non-null int64\n",
      "Receiving R/G      527 non-null float64\n",
      "Receiving Y/G      527 non-null float64\n",
      "Receiving Ctch%    527 non-null object\n",
      "Rushing Att        288 non-null float64\n",
      "Rushing Yds        288 non-null float64\n",
      "Rushing TD         288 non-null float64\n",
      "Rushing Lng        288 non-null float64\n",
      "Rushing Y/A        287 non-null float64\n",
      "Rushing Y/G        288 non-null float64\n",
      "Rushing A/G        288 non-null float64\n",
      "Total Yds Touch    527 non-null int64\n",
      "Total Yds Y/Tch    527 non-null float64\n",
      "Total Yds YScm     527 non-null int64\n",
      "RRTD               527 non-null int64\n",
      "Fmb                527 non-null int64\n",
      "dtypes: float64(11), int64(13), object(4)\n",
      "memory usage: 115.4+ KB\n"
     ]
    }
   ],
   "source": [
    "data = pd.read_csv('Data/nfl-2013-rr.csv')\n",
    "data.info()"
   ]
  }
 ],
 "metadata": {
  "kernelspec": {
   "display_name": "Python 2",
   "language": "python",
   "name": "python2"
  },
  "language_info": {
   "codemirror_mode": {
    "name": "ipython",
    "version": 2
   },
   "file_extension": ".py",
   "mimetype": "text/x-python",
   "name": "python",
   "nbconvert_exporter": "python",
   "pygments_lexer": "ipython2",
   "version": "2.7.10"
  }
 },
 "nbformat": 4,
 "nbformat_minor": 2
}
